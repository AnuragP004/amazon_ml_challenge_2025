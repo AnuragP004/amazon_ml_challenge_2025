{
 "cells": [
  {
   "cell_type": "markdown",
   "id": "35443acf",
   "metadata": {},
   "source": [
    "# Smart Product Pricing Challenge - Multimodal ML Solution\n",
    "\n",
    "This notebook implements an end-to-end solution for predicting product prices using both text (catalog_content) and images (image_link).\n",
    "\n",
    "**Approach:**\n",
    "1. Extract features from text using DistilBERT transformer\n",
    "2. Extract features from images using ResNet50 CNN\n",
    "3. Extract Item Pack Quantity (IPQ) feature from text\n",
    "4. Fuse all features and train a regression model\n",
    "5. Optimize for SMAPE metric using MAE loss\n",
    "\n",
    "**Evaluation Metric:** SMAPE (Symmetric Mean Absolute Percentage Error)"
   ]
  },
  {
   "cell_type": "markdown",
   "id": "f9b9f344",
   "metadata": {},
   "source": [
    "## Step 1: Setup and Imports"
   ]
  },
  {
   "cell_type": "markdown",
   "id": "e5d1a994",
   "metadata": {},
   "source": [
    "## ⚡ ULTRA-FAST TRAINING MODE ENABLED\n",
    "\n",
    "This notebook has been **heavily optimized** for speed:\n",
    "\n",
    "### Quick Start Guide:\n",
    "1. **Run Cell 3** - Check if GPU is available\n",
    "2. **If GPU shows \"False\"**:\n",
    "   - Install CUDA PyTorch: `pip install torch torchvision --index-url https://download.pytorch.org/whl/cu118`\n",
    "   - OR use Google Colab/Kaggle with free GPU\n",
    "3. **For testing**: Set `USE_SUBSET = True` in the data loading section\n",
    "4. **Run all cells** - Training should complete in minutes!\n",
    "\n",
    "### Current Settings:\n",
    "- 🎯 **Batch Size**: 128 (fast processing)\n",
    "- 🎯 **Epochs**: 3 (quick convergence)  \n",
    "- 🎯 **Model**: MobileNetV2 (ultra-light)\n",
    "- 🎯 **Mixed Precision**: Auto-enabled on GPU\n",
    "- 🎯 **Text Length**: 128 tokens (4x faster)"
   ]
  },
  {
   "cell_type": "code",
   "execution_count": 37,
   "id": "18156502",
   "metadata": {},
   "outputs": [
    {
     "name": "stdout",
     "output_type": "stream",
     "text": [
      "PyTorch version: 2.8.0+cu128\n",
      "CUDA available: True\n",
      "CUDA device: NVIDIA GeForce RTX 3050 6GB Laptop GPU\n"
     ]
    }
   ],
   "source": [
    "# Import necessary libraries\n",
    "import os\n",
    "import re\n",
    "import sys\n",
    "import warnings\n",
    "from pathlib import Path\n",
    "\n",
    "import numpy as np\n",
    "import pandas as pd\n",
    "from tqdm.auto import tqdm\n",
    "\n",
    "# PyTorch\n",
    "import torch\n",
    "import torch.nn as nn\n",
    "import torch.nn.functional as F\n",
    "from torch.utils.data import Dataset, DataLoader\n",
    "import torchvision.transforms as transforms\n",
    "import torchvision.models as models\n",
    "\n",
    "# Transformers\n",
    "from transformers import DistilBertTokenizer, DistilBertModel\n",
    "\n",
    "# Image processing\n",
    "from PIL import Image\n",
    "\n",
    "# Scikit-learn\n",
    "from sklearn.model_selection import train_test_split\n",
    "from sklearn.preprocessing import StandardScaler\n",
    "\n",
    "# Utility functions\n",
    "sys.path.append('..')\n",
    "from utils import download_images\n",
    "\n",
    "warnings.filterwarnings('ignore')\n",
    "\n",
    "print(f\"PyTorch version: {torch.__version__}\")\n",
    "print(f\"CUDA available: {torch.cuda.is_available()}\")\n",
    "if torch.cuda.is_available():\n",
    "    print(f\"CUDA device: {torch.cuda.get_device_name(0)}\")"
   ]
  },
  {
   "cell_type": "code",
   "execution_count": 38,
   "id": "0198d747",
   "metadata": {},
   "outputs": [
    {
     "name": "stdout",
     "output_type": "stream",
     "text": [
      "============================================================\n",
      "SYSTEM DIAGNOSTICS\n",
      "============================================================\n",
      "PyTorch Version: 2.8.0+cu128\n",
      "CUDA Available: True\n",
      "✓ GPU ENABLED\n",
      "GPU Name: NVIDIA GeForce RTX 3050 6GB Laptop GPU\n",
      "GPU Count: 1\n",
      "CUDA Version: 12.8\n",
      "GPU Memory: 5.67 GB\n",
      "\n",
      "cuDNN Available: True\n",
      "cuDNN Enabled: True\n",
      "============================================================\n"
     ]
    }
   ],
   "source": [
    "# GPU Verification and Optimization Check\n",
    "import torch\n",
    "\n",
    "print(\"=\"*60)\n",
    "print(\"SYSTEM DIAGNOSTICS\")\n",
    "print(\"=\"*60)\n",
    "\n",
    "# Check PyTorch and CUDA\n",
    "print(f\"PyTorch Version: {torch.__version__}\")\n",
    "print(f\"CUDA Available: {torch.cuda.is_available()}\")\n",
    "\n",
    "if torch.cuda.is_available():\n",
    "    print(f\"✓ GPU ENABLED\")\n",
    "    print(f\"GPU Name: {torch.cuda.get_device_name(0)}\")\n",
    "    print(f\"GPU Count: {torch.cuda.device_count()}\")\n",
    "    print(f\"CUDA Version: {torch.version.cuda}\")\n",
    "    print(f\"GPU Memory: {torch.cuda.get_device_properties(0).total_memory / 1024**3:.2f} GB\")\n",
    "else:\n",
    "    print(\"⚠️  WARNING: NO GPU DETECTED - Running on CPU will be VERY SLOW\")\n",
    "    print(\"\\nTo enable GPU:\")\n",
    "    print(\"1. Install CUDA toolkit from NVIDIA\")\n",
    "    print(\"2. Install PyTorch with CUDA support:\")\n",
    "    print(\"   pip install torch torchvision --index-url https://download.pytorch.org/whl/cu118\")\n",
    "    print(\"\\nOr use Google Colab/Kaggle for free GPU access\")\n",
    "\n",
    "# Check if cuDNN is available\n",
    "print(f\"\\ncuDNN Available: {torch.backends.cudnn.is_available()}\")\n",
    "print(f\"cuDNN Enabled: {torch.backends.cudnn.enabled}\")\n",
    "\n",
    "print(\"=\"*60)"
   ]
  },
  {
   "cell_type": "markdown",
   "id": "585b886a",
   "metadata": {},
   "source": [
    "## Step 2: Configuration and Constants"
   ]
  },
  {
   "cell_type": "code",
   "execution_count": 39,
   "id": "5383c5fe",
   "metadata": {},
   "outputs": [
    {
     "name": "stdout",
     "output_type": "stream",
     "text": [
      "✓ GPU OPTIMIZATIONS ENABLED\n",
      "  - cuDNN Benchmark: True\n",
      "  - Pin Memory: True\n",
      "\n",
      "Device: cuda\n",
      "Batch Size: 128\n",
      "Epochs: 3\n",
      "Image Size: 224x224\n",
      "Text Length: 128 tokens\n"
     ]
    }
   ],
   "source": [
    "# Configuration\n",
    "class Config:\n",
    "    # Paths\n",
    "    TRAIN_CSV = '../dataset/train.csv'\n",
    "    TEST_CSV = '../dataset/test.csv'\n",
    "    IMAGE_FOLDER = './images/'\n",
    "    SUBMISSION_FILE = 'submission.csv'\n",
    "    MODEL_SAVE_PATH = 'best_model.pth'\n",
    "    \n",
    "    # Image settings\n",
    "    IMG_SIZE = 224\n",
    "    \n",
    "    # Training settings - OPTIMIZED FOR SPEED\n",
    "    BATCH_SIZE = 128  # Increased for faster training (reduce if out of memory)\n",
    "    EPOCHS = 3  # Reduced for faster completion\n",
    "    LEARNING_RATE = 3e-4  # Higher for faster convergence\n",
    "    WEIGHT_DECAY = 1e-5\n",
    "    \n",
    "    # Model settings\n",
    "    IMAGE_EMBED_DIM = 64  # Reduced from 128\n",
    "    TEXT_EMBED_DIM = 64   # Reduced from 128\n",
    "    DROPOUT = 0.2  # Reduced dropout for faster training\n",
    "    \n",
    "    # Text settings\n",
    "    MAX_TEXT_LENGTH = 128  # Heavily reduced for speed (was 512)\n",
    "    TRANSFORMER_MODEL = 'distilbert-base-uncased'\n",
    "    \n",
    "    # Other settings\n",
    "    RANDOM_SEED = 42\n",
    "    VAL_SPLIT = 0.1\n",
    "    NUM_WORKERS = 0  # Set to 0 for stability, increase to 2-4 if multiprocessing works\n",
    "    \n",
    "    # Device - FORCE GPU IF AVAILABLE\n",
    "    DEVICE = torch.device('cuda' if torch.cuda.is_available() else 'cpu')\n",
    "    \n",
    "    # Performance settings\n",
    "    PIN_MEMORY = torch.cuda.is_available()  # Enable for GPU\n",
    "    PERSISTENT_WORKERS = False  # Set True if NUM_WORKERS > 0\n",
    "\n",
    "config = Config()\n",
    "\n",
    "# Enable cuDNN benchmarking for faster training\n",
    "if torch.cuda.is_available():\n",
    "    torch.backends.cudnn.benchmark = True\n",
    "    torch.backends.cudnn.enabled = True\n",
    "    print(\"✓ GPU OPTIMIZATIONS ENABLED\")\n",
    "    print(f\"  - cuDNN Benchmark: {torch.backends.cudnn.benchmark}\")\n",
    "    print(f\"  - Pin Memory: {config.PIN_MEMORY}\")\n",
    "\n",
    "print(f\"\\nDevice: {config.DEVICE}\")\n",
    "print(f\"Batch Size: {config.BATCH_SIZE}\")\n",
    "print(f\"Epochs: {config.EPOCHS}\")\n",
    "print(f\"Image Size: {config.IMG_SIZE}x{config.IMG_SIZE}\")\n",
    "print(f\"Text Length: {config.MAX_TEXT_LENGTH} tokens\")\n",
    "\n",
    "# Set random seeds for reproducibility\n",
    "torch.manual_seed(config.RANDOM_SEED)\n",
    "np.random.seed(config.RANDOM_SEED)\n",
    "if torch.cuda.is_available():\n",
    "    torch.cuda.manual_seed(config.RANDOM_SEED)\n",
    "    torch.cuda.manual_seed_all(config.RANDOM_SEED)"
   ]
  },
  {
   "cell_type": "markdown",
   "id": "791274a2",
   "metadata": {},
   "source": [
    "## Step 3: Data Loading"
   ]
  },
  {
   "cell_type": "markdown",
   "id": "8d4ed7f9",
   "metadata": {},
   "source": [
    "## 🚀 EXTREME SPEED OPTIMIZATIONS APPLIED\n",
    "\n",
    "### What's Been Optimized:\n",
    "1. **Model Architecture**: MobileNetV2 (10x lighter than ResNet50)\n",
    "2. **Batch Size**: 128 (process more samples at once)\n",
    "3. **Epochs**: 3 (faster training, still good results)\n",
    "4. **Text Length**: 128 tokens (4x faster text processing)\n",
    "5. **Embeddings**: 64-dim instead of 128-dim\n",
    "6. **Frozen Layers**: All pretrained layers frozen (only train fusion head)\n",
    "7. **GPU Optimizations**: \n",
    "   - cuDNN benchmark enabled\n",
    "   - Pin memory enabled\n",
    "   - Mixed precision (AMP) enabled\n",
    "8. **Simplified Architecture**: Minimal trainable parameters\n",
    "\n",
    "### Expected Speed Improvement:\n",
    "- **With GPU**: ~2-5 min per epoch (vs 15-30 min before)\n",
    "- **With CPU**: ~10-20 min per epoch (vs 60+ min before)\n",
    "- **With Data Subset**: ~30 sec - 2 min per epoch\n",
    "\n",
    "### To Go Even Faster:\n",
    "- Set `USE_SUBSET = True` in the next section\n",
    "- Increase `BATCH_SIZE` to 256 (if you have enough GPU memory)\n",
    "- Reduce `EPOCHS` to 2"
   ]
  },
  {
   "cell_type": "code",
   "execution_count": 40,
   "id": "38299521",
   "metadata": {},
   "outputs": [
    {
     "name": "stdout",
     "output_type": "stream",
     "text": [
      "Loading datasets...\n",
      "Train shape: (75000, 4)\n",
      "Test shape: (75000, 3)\n",
      "\n",
      "Train data sample:\n",
      "   sample_id                                    catalog_content  \\\n",
      "0      33127  Item Name: La Victoria Green Taco Sauce Mild, ...   \n",
      "1     198967  Item Name: Salerno Cookies, The Original Butte...   \n",
      "\n",
      "                                          image_link  price  \n",
      "0  https://m.media-amazon.com/images/I/51mo8htwTH...   4.89  \n",
      "1  https://m.media-amazon.com/images/I/71YtriIHAA...  13.12  \n",
      "\n",
      "Test data sample:\n",
      "   sample_id                                    catalog_content  \\\n",
      "0     100179  Item Name: Rani 14-Spice Eshamaya's Mango Chut...   \n",
      "1     245611  Item Name: Natural MILK TEA Flavoring extract ...   \n",
      "\n",
      "                                          image_link  \n",
      "0  https://m.media-amazon.com/images/I/71hoAn78AW...  \n",
      "1  https://m.media-amazon.com/images/I/61ex8NHCIj...  \n",
      "Train shape: (75000, 4)\n",
      "Test shape: (75000, 3)\n",
      "\n",
      "Train data sample:\n",
      "   sample_id                                    catalog_content  \\\n",
      "0      33127  Item Name: La Victoria Green Taco Sauce Mild, ...   \n",
      "1     198967  Item Name: Salerno Cookies, The Original Butte...   \n",
      "\n",
      "                                          image_link  price  \n",
      "0  https://m.media-amazon.com/images/I/51mo8htwTH...   4.89  \n",
      "1  https://m.media-amazon.com/images/I/71YtriIHAA...  13.12  \n",
      "\n",
      "Test data sample:\n",
      "   sample_id                                    catalog_content  \\\n",
      "0     100179  Item Name: Rani 14-Spice Eshamaya's Mango Chut...   \n",
      "1     245611  Item Name: Natural MILK TEA Flavoring extract ...   \n",
      "\n",
      "                                          image_link  \n",
      "0  https://m.media-amazon.com/images/I/71hoAn78AW...  \n",
      "1  https://m.media-amazon.com/images/I/61ex8NHCIj...  \n"
     ]
    }
   ],
   "source": [
    "# Load datasets\n",
    "print(\"Loading datasets...\")\n",
    "train_df = pd.read_csv(config.TRAIN_CSV)\n",
    "test_df = pd.read_csv(config.TEST_CSV)\n",
    "\n",
    "print(f\"Train shape: {train_df.shape}\")\n",
    "print(f\"Test shape: {test_df.shape}\")\n",
    "\n",
    "# Display first few rows\n",
    "print(\"\\nTrain data sample:\")\n",
    "print(train_df.head(2))\n",
    "\n",
    "print(\"\\nTest data sample:\")\n",
    "print(test_df.head(2))"
   ]
  },
  {
   "cell_type": "markdown",
   "id": "80e51afc",
   "metadata": {},
   "source": [
    "### ⚡ SPEED OPTIMIZATION: Use Data Subset\n",
    "**For ultra-fast testing/debugging**, enable this to use only a portion of the data:"
   ]
  },
  {
   "cell_type": "code",
   "execution_count": 41,
   "id": "2f4d1d2c",
   "metadata": {},
   "outputs": [
    {
     "name": "stdout",
     "output_type": "stream",
     "text": [
      "Using full dataset - Train: 75000, Test: 75000\n"
     ]
    }
   ],
   "source": [
    "# ⚡ SPEED OPTIMIZATION: Use subset for ultra-fast training\n",
    "USE_SUBSET = False  # Set to True for 10x faster training (for testing)\n",
    "SUBSET_TRAIN_SIZE = 5000  # Number of training samples to use\n",
    "SUBSET_TEST_SIZE = 1000   # Number of test samples to use\n",
    "\n",
    "if USE_SUBSET:\n",
    "    print(\"⚡ USING DATA SUBSET FOR FAST TRAINING\")\n",
    "    if len(train_df) > SUBSET_TRAIN_SIZE:\n",
    "        train_df = train_df.sample(n=SUBSET_TRAIN_SIZE, random_state=config.RANDOM_SEED).reset_index(drop=True)\n",
    "    if len(test_df) > SUBSET_TEST_SIZE:\n",
    "        test_df = test_df.sample(n=SUBSET_TEST_SIZE, random_state=config.RANDOM_SEED).reset_index(drop=True)\n",
    "    print(f\"Train subset: {len(train_df)} samples\")\n",
    "    print(f\"Test subset: {len(test_df)} samples\")\n",
    "    print(\"Training will be 10-20x faster!\")\n",
    "else:\n",
    "    print(f\"Using full dataset - Train: {len(train_df)}, Test: {len(test_df)}\")"
   ]
  },
  {
   "cell_type": "code",
   "execution_count": 42,
   "id": "49ebd496",
   "metadata": {},
   "outputs": [
    {
     "name": "stdout",
     "output_type": "stream",
     "text": [
      "Missing values in train data:\n",
      "sample_id          0\n",
      "catalog_content    0\n",
      "image_link         0\n",
      "price              0\n",
      "dtype: int64\n",
      "\n",
      "Missing values in test data:\n",
      "sample_id          0\n",
      "catalog_content    0\n",
      "image_link         0\n",
      "dtype: int64\n",
      "\n",
      "Price statistics:\n",
      "count    75000.000000\n",
      "mean        23.647654\n",
      "std         33.376932\n",
      "min          0.130000\n",
      "25%          6.795000\n",
      "50%         14.000000\n",
      "75%         28.625000\n",
      "max       2796.000000\n",
      "Name: price, dtype: float64\n"
     ]
    }
   ],
   "source": [
    "# Check for missing values\n",
    "print(\"Missing values in train data:\")\n",
    "print(train_df.isnull().sum())\n",
    "\n",
    "print(\"\\nMissing values in test data:\")\n",
    "print(test_df.isnull().sum())\n",
    "\n",
    "# Basic statistics\n",
    "print(\"\\nPrice statistics:\")\n",
    "print(train_df['price'].describe())"
   ]
  },
  {
   "cell_type": "markdown",
   "id": "20dac1d7",
   "metadata": {},
   "source": [
    "## Step 4: Feature Engineering and Preprocessing"
   ]
  },
  {
   "cell_type": "code",
   "execution_count": 43,
   "id": "58eb1a42",
   "metadata": {},
   "outputs": [
    {
     "name": "stdout",
     "output_type": "stream",
     "text": [
      "Preprocessing train data...\n",
      "Extracting Item Pack Quantity (IPQ)...\n",
      "Cleaning text...\n",
      "Cleaning text...\n",
      "IPQ statistics:\n",
      "count    7.500000e+04\n",
      "mean     1.138032e+07\n",
      "std      3.116622e+09\n",
      "min      0.000000e+00\n",
      "25%      3.000000e+00\n",
      "50%      8.000000e+00\n",
      "75%      1.800000e+01\n",
      "max      8.535220e+11\n",
      "Name: ipq, dtype: float64\n",
      "\n",
      "Preprocessing test data...\n",
      "Extracting Item Pack Quantity (IPQ)...\n",
      "IPQ statistics:\n",
      "count    7.500000e+04\n",
      "mean     1.138032e+07\n",
      "std      3.116622e+09\n",
      "min      0.000000e+00\n",
      "25%      3.000000e+00\n",
      "50%      8.000000e+00\n",
      "75%      1.800000e+01\n",
      "max      8.535220e+11\n",
      "Name: ipq, dtype: float64\n",
      "\n",
      "Preprocessing test data...\n",
      "Extracting Item Pack Quantity (IPQ)...\n",
      "Cleaning text...\n",
      "Cleaning text...\n",
      "IPQ statistics:\n",
      "count    7.500000e+04\n",
      "mean     2.393837e+06\n",
      "std      3.961346e+08\n",
      "min      0.000000e+00\n",
      "25%      3.000000e+00\n",
      "50%      8.000000e+00\n",
      "75%      1.820000e+01\n",
      "max      7.520001e+10\n",
      "Name: ipq, dtype: float64\n",
      "IPQ statistics:\n",
      "count    7.500000e+04\n",
      "mean     2.393837e+06\n",
      "std      3.961346e+08\n",
      "min      0.000000e+00\n",
      "25%      3.000000e+00\n",
      "50%      8.000000e+00\n",
      "75%      1.820000e+01\n",
      "max      7.520001e+10\n",
      "Name: ipq, dtype: float64\n"
     ]
    }
   ],
   "source": [
    "def extract_ipq(text):\n",
    "    \"\"\"\n",
    "    Extract Item Pack Quantity (IPQ) from catalog content.\n",
    "    Looks for patterns like 'Item Pack Quantity: 30' or 'Pack of 5', etc.\n",
    "    \"\"\"\n",
    "    if pd.isna(text) or not isinstance(text, str):\n",
    "        return 1.0\n",
    "    \n",
    "    # Pattern 1: Item Pack Quantity: X\n",
    "    pattern1 = r'Item Pack Quantity[:\\s]+([0-9]+(?:\\.[0-9]+)?)'\n",
    "    match1 = re.search(pattern1, text, re.IGNORECASE)\n",
    "    if match1:\n",
    "        return float(match1.group(1))\n",
    "    \n",
    "    # Pattern 2: Pack of X\n",
    "    pattern2 = r'Pack of ([0-9]+)'\n",
    "    match2 = re.search(pattern2, text, re.IGNORECASE)\n",
    "    if match2:\n",
    "        return float(match2.group(1))\n",
    "    \n",
    "    # Pattern 3: X-Pack or X Pack\n",
    "    pattern3 = r'([0-9]+)[\\s-]*Pack'\n",
    "    match3 = re.search(pattern3, text, re.IGNORECASE)\n",
    "    if match3:\n",
    "        return float(match3.group(1))\n",
    "    \n",
    "    # Pattern 4: Count: X\n",
    "    pattern4 = r'Value[:\\s]+([0-9]+(?:\\.[0-9]+)?)'\n",
    "    match4 = re.search(pattern4, text, re.IGNORECASE)\n",
    "    if match4:\n",
    "        return float(match4.group(1))\n",
    "    \n",
    "    return 1.0\n",
    "\n",
    "\n",
    "def clean_text(text):\n",
    "    \"\"\"\n",
    "    Clean catalog content text.\n",
    "    \"\"\"\n",
    "    if pd.isna(text) or not isinstance(text, str):\n",
    "        return \"\"\n",
    "    \n",
    "    # Convert to lowercase\n",
    "    text = text.lower()\n",
    "    \n",
    "    # Remove extra whitespace\n",
    "    text = re.sub(r'\\s+', ' ', text)\n",
    "    \n",
    "    return text.strip()\n",
    "\n",
    "\n",
    "def preprocess_dataframe(df, is_train=True):\n",
    "    \"\"\"\n",
    "    Preprocess the dataframe:\n",
    "    1. Extract IPQ feature\n",
    "    2. Clean text\n",
    "    3. Handle missing values\n",
    "    \"\"\"\n",
    "    df = df.copy()\n",
    "    \n",
    "    # Extract IPQ\n",
    "    print(\"Extracting Item Pack Quantity (IPQ)...\")\n",
    "    df['ipq'] = df['catalog_content'].apply(extract_ipq)\n",
    "    \n",
    "    # Clean text\n",
    "    print(\"Cleaning text...\")\n",
    "    df['cleaned_text'] = df['catalog_content'].apply(clean_text)\n",
    "    \n",
    "    # Handle missing image links\n",
    "    df['image_link'] = df['image_link'].fillna('')\n",
    "    \n",
    "    # Log transform for IPQ\n",
    "    df['ipq_log'] = np.log1p(df['ipq'])\n",
    "    \n",
    "    print(f\"IPQ statistics:\")\n",
    "    print(df['ipq'].describe())\n",
    "    \n",
    "    return df\n",
    "\n",
    "\n",
    "# Preprocess train and test data\n",
    "print(\"Preprocessing train data...\")\n",
    "train_df = preprocess_dataframe(train_df, is_train=True)\n",
    "\n",
    "print(\"\\nPreprocessing test data...\")\n",
    "test_df = preprocess_dataframe(test_df, is_train=False)"
   ]
  },
  {
   "cell_type": "code",
   "execution_count": 44,
   "id": "9de03727",
   "metadata": {},
   "outputs": [
    {
     "name": "stdout",
     "output_type": "stream",
     "text": [
      "Feature engineering complete!\n",
      "\n",
      "Train columns: ['sample_id', 'catalog_content', 'image_link', 'price', 'ipq', 'cleaned_text', 'ipq_log', 'ipq_normalized']\n"
     ]
    }
   ],
   "source": [
    "# Normalize IPQ feature\n",
    "scaler = StandardScaler()\n",
    "train_df['ipq_normalized'] = scaler.fit_transform(train_df[['ipq_log']])\n",
    "test_df['ipq_normalized'] = scaler.transform(test_df[['ipq_log']])\n",
    "\n",
    "print(\"Feature engineering complete!\")\n",
    "print(f\"\\nTrain columns: {train_df.columns.tolist()}\")"
   ]
  },
  {
   "cell_type": "markdown",
   "id": "1cc3eb80",
   "metadata": {},
   "source": [
    "## Step 5: Download Images"
   ]
  },
  {
   "cell_type": "code",
   "execution_count": 45,
   "id": "96b5801d",
   "metadata": {},
   "outputs": [
    {
     "name": "stdout",
     "output_type": "stream",
     "text": [
      "Total unique images to download: 140587\n",
      "Images already downloaded: 140585\n",
      "\n",
      "Downloading images...\n"
     ]
    },
    {
     "name": "stderr",
     "output_type": "stream",
     "text": [
      " 24%|██▎       | 33217/140587 [00:00<00:01, 56944.46it/s]"
     ]
    },
    {
     "name": "stdout",
     "output_type": "stream",
     "text": [
      "Warning: Not able to download - https://m.media-amazon.com/images/I/51mjZYDYjyL.jpg\n",
      "HTTP Error 404: Not Found\n",
      "\n"
     ]
    },
    {
     "name": "stderr",
     "output_type": "stream",
     "text": [
      " 28%|██▊       | 38912/140587 [00:01<00:08, 11628.20it/s]"
     ]
    },
    {
     "name": "stdout",
     "output_type": "stream",
     "text": [
      "Warning: Not able to download - https://m.media-amazon.com/images/I/813CjSgHj0S.jpg\n",
      "HTTP Error 404: Not Found\n",
      "\n"
     ]
    },
    {
     "name": "stderr",
     "output_type": "stream",
     "text": [
      "100%|██████████| 140587/140587 [00:02<00:00, 56051.42it/s]\n",
      "\n"
     ]
    },
    {
     "name": "stdout",
     "output_type": "stream",
     "text": [
      "Image download complete!\n"
     ]
    }
   ],
   "source": [
    "# Create image folder if it doesn't exist\n",
    "os.makedirs(config.IMAGE_FOLDER, exist_ok=True)\n",
    "\n",
    "# Get all unique image links\n",
    "all_image_links = pd.concat([train_df['image_link'], test_df['image_link']]).unique()\n",
    "all_image_links = [link for link in all_image_links if isinstance(link, str) and link.strip() != '']\n",
    "\n",
    "print(f\"Total unique images to download: {len(all_image_links)}\")\n",
    "\n",
    "# Check how many images are already downloaded\n",
    "existing_images = set(os.listdir(config.IMAGE_FOLDER))\n",
    "print(f\"Images already downloaded: {len(existing_images)}\")\n",
    "\n",
    "# Download images (this may take a while)\n",
    "print(\"\\nDownloading images...\")\n",
    "download_images(all_image_links, config.IMAGE_FOLDER)\n",
    "print(\"Image download complete!\")"
   ]
  },
  {
   "cell_type": "markdown",
   "id": "029dfcaf",
   "metadata": {},
   "source": [
    "## Step 6: Custom Dataset Class"
   ]
  },
  {
   "cell_type": "code",
   "execution_count": 46,
   "id": "666dd3e1",
   "metadata": {},
   "outputs": [
    {
     "name": "stdout",
     "output_type": "stream",
     "text": [
      "Dataset class defined successfully!\n"
     ]
    }
   ],
   "source": [
    "class PriceDataset(Dataset):\n",
    "    \"\"\"\n",
    "    Custom PyTorch Dataset for multimodal price prediction.\n",
    "    Handles both images and text data.\n",
    "    \"\"\"\n",
    "    \n",
    "    def __init__(self, df, tokenizer, image_folder, transform=None, is_train=True):\n",
    "        self.df = df.reset_index(drop=True)\n",
    "        self.tokenizer = tokenizer\n",
    "        self.image_folder = image_folder\n",
    "        self.transform = transform\n",
    "        self.is_train = is_train\n",
    "        \n",
    "        # Default image (black image) for missing images\n",
    "        self.default_image = Image.new('RGB', (config.IMG_SIZE, config.IMG_SIZE), color='black')\n",
    "    \n",
    "    def __len__(self):\n",
    "        return len(self.df)\n",
    "    \n",
    "    def __getitem__(self, idx):\n",
    "        row = self.df.iloc[idx]\n",
    "        \n",
    "        # Load and process image\n",
    "        image = self._load_image(row['image_link'])\n",
    "        if self.transform:\n",
    "            image = self.transform(image)\n",
    "        \n",
    "        # Tokenize text\n",
    "        text = row['cleaned_text']\n",
    "        encoded = self.tokenizer(\n",
    "            text,\n",
    "            max_length=config.MAX_TEXT_LENGTH,\n",
    "            padding='max_length',\n",
    "            truncation=True,\n",
    "            return_tensors='pt'\n",
    "        )\n",
    "        \n",
    "        input_ids = encoded['input_ids'].squeeze(0)\n",
    "        attention_mask = encoded['attention_mask'].squeeze(0)\n",
    "        \n",
    "        # Get IPQ feature\n",
    "        ipq = torch.tensor(row['ipq_normalized'], dtype=torch.float32)\n",
    "        \n",
    "        # Prepare output\n",
    "        sample = {\n",
    "            'image': image,\n",
    "            'input_ids': input_ids,\n",
    "            'attention_mask': attention_mask,\n",
    "            'ipq': ipq,\n",
    "            'sample_id': row['sample_id']\n",
    "        }\n",
    "        \n",
    "        # Add label if training\n",
    "        if self.is_train:\n",
    "            price = torch.tensor(row['price'], dtype=torch.float32)\n",
    "            sample['price'] = price\n",
    "        \n",
    "        return sample\n",
    "    \n",
    "    def _load_image(self, image_link):\n",
    "        \"\"\"\n",
    "        Load image from disk or return default image if not found.\n",
    "        \"\"\"\n",
    "        if pd.isna(image_link) or not isinstance(image_link, str) or image_link.strip() == '':\n",
    "            return self.default_image\n",
    "        \n",
    "        filename = Path(image_link).name\n",
    "        image_path = os.path.join(self.image_folder, filename)\n",
    "        \n",
    "        try:\n",
    "            image = Image.open(image_path).convert('RGB')\n",
    "            return image\n",
    "        except Exception as e:\n",
    "            # Return default image if loading fails\n",
    "            return self.default_image\n",
    "\n",
    "\n",
    "# Define image transformations\n",
    "train_transform = transforms.Compose([\n",
    "    transforms.Resize((config.IMG_SIZE, config.IMG_SIZE)),\n",
    "    transforms.RandomHorizontalFlip(p=0.5),\n",
    "    transforms.RandomRotation(10),\n",
    "    transforms.ColorJitter(brightness=0.2, contrast=0.2),\n",
    "    transforms.ToTensor(),\n",
    "    transforms.Normalize(mean=[0.485, 0.456, 0.406], std=[0.229, 0.224, 0.225])\n",
    "])\n",
    "\n",
    "val_transform = transforms.Compose([\n",
    "    transforms.Resize((config.IMG_SIZE, config.IMG_SIZE)),\n",
    "    transforms.ToTensor(),\n",
    "    transforms.Normalize(mean=[0.485, 0.456, 0.406], std=[0.229, 0.224, 0.225])\n",
    "])\n",
    "\n",
    "print(\"Dataset class defined successfully!\")"
   ]
  },
  {
   "cell_type": "markdown",
   "id": "880ffffb",
   "metadata": {},
   "source": [
    "## Step 7: Train/Validation Split"
   ]
  },
  {
   "cell_type": "code",
   "execution_count": 47,
   "id": "96c62e9c",
   "metadata": {},
   "outputs": [
    {
     "name": "stdout",
     "output_type": "stream",
     "text": [
      "Training samples: 67500\n",
      "Validation samples: 7500\n",
      "Test samples: 75000\n"
     ]
    }
   ],
   "source": [
    "# Split train data into train and validation\n",
    "train_data, val_data = train_test_split(\n",
    "    train_df, \n",
    "    test_size=config.VAL_SPLIT, \n",
    "    random_state=config.RANDOM_SEED\n",
    ")\n",
    "\n",
    "print(f\"Training samples: {len(train_data)}\")\n",
    "print(f\"Validation samples: {len(val_data)}\")\n",
    "print(f\"Test samples: {len(test_df)}\")"
   ]
  },
  {
   "cell_type": "markdown",
   "id": "692c383b",
   "metadata": {},
   "source": [
    "## Step 8: Initialize Tokenizer and Datasets"
   ]
  },
  {
   "cell_type": "code",
   "execution_count": 48,
   "id": "c798310e",
   "metadata": {},
   "outputs": [
    {
     "name": "stdout",
     "output_type": "stream",
     "text": [
      "Loading tokenizer...\n",
      "Creating datasets...\n",
      "Creating data loaders with GPU optimizations...\n",
      "✓ Data loaders created successfully!\n",
      "  Train batches: 528 (batch size: 128)\n",
      "  Validation batches: 59\n",
      "  Test batches: 586\n",
      "Creating datasets...\n",
      "Creating data loaders with GPU optimizations...\n",
      "✓ Data loaders created successfully!\n",
      "  Train batches: 528 (batch size: 128)\n",
      "  Validation batches: 59\n",
      "  Test batches: 586\n"
     ]
    }
   ],
   "source": [
    "# Initialize tokenizer\n",
    "print(\"Loading tokenizer...\")\n",
    "tokenizer = DistilBertTokenizer.from_pretrained(config.TRANSFORMER_MODEL)\n",
    "\n",
    "# Create datasets\n",
    "print(\"Creating datasets...\")\n",
    "train_dataset = PriceDataset(train_data, tokenizer, config.IMAGE_FOLDER, transform=train_transform, is_train=True)\n",
    "val_dataset = PriceDataset(val_data, tokenizer, config.IMAGE_FOLDER, transform=val_transform, is_train=True)\n",
    "test_dataset = PriceDataset(test_df, tokenizer, config.IMAGE_FOLDER, transform=val_transform, is_train=False)\n",
    "\n",
    "# Create data loaders with GPU optimizations\n",
    "print(\"Creating data loaders with GPU optimizations...\")\n",
    "train_loader = DataLoader(\n",
    "    train_dataset, \n",
    "    batch_size=config.BATCH_SIZE, \n",
    "    shuffle=True, \n",
    "    num_workers=config.NUM_WORKERS,\n",
    "    pin_memory=config.PIN_MEMORY,  # GPU optimization\n",
    "    persistent_workers=config.PERSISTENT_WORKERS if config.NUM_WORKERS > 0 else False\n",
    ")\n",
    "\n",
    "val_loader = DataLoader(\n",
    "    val_dataset, \n",
    "    batch_size=config.BATCH_SIZE, \n",
    "    shuffle=False, \n",
    "    num_workers=config.NUM_WORKERS,\n",
    "    pin_memory=config.PIN_MEMORY,  # GPU optimization\n",
    "    persistent_workers=config.PERSISTENT_WORKERS if config.NUM_WORKERS > 0 else False\n",
    ")\n",
    "\n",
    "test_loader = DataLoader(\n",
    "    test_dataset, \n",
    "    batch_size=config.BATCH_SIZE, \n",
    "    shuffle=False, \n",
    "    num_workers=config.NUM_WORKERS,\n",
    "    pin_memory=config.PIN_MEMORY,  # GPU optimization\n",
    "    persistent_workers=config.PERSISTENT_WORKERS if config.NUM_WORKERS > 0 else False\n",
    ")\n",
    "\n",
    "print(f\"✓ Data loaders created successfully!\")\n",
    "print(f\"  Train batches: {len(train_loader)} (batch size: {config.BATCH_SIZE})\")\n",
    "print(f\"  Validation batches: {len(val_loader)}\")\n",
    "print(f\"  Test batches: {len(test_loader)}\")"
   ]
  },
  {
   "cell_type": "markdown",
   "id": "04c6f342",
   "metadata": {},
   "source": [
    "## Step 9: Multimodal Model Architecture"
   ]
  },
  {
   "cell_type": "code",
   "execution_count": 49,
   "id": "81c7e88f",
   "metadata": {},
   "outputs": [
    {
     "name": "stdout",
     "output_type": "stream",
     "text": [
      "Initializing OPTIMIZED model (MobileNetV2)...\n",
      "✓ Model initialized!\n",
      "  Total parameters: 68,728,385\n",
      "  Trainable parameters: 141,633 (0.2%)\n",
      "  Model size: ~262.2 MB\n",
      "  Device: cuda:0\n",
      "✓ Model initialized!\n",
      "  Total parameters: 68,728,385\n",
      "  Trainable parameters: 141,633 (0.2%)\n",
      "  Model size: ~262.2 MB\n",
      "  Device: cuda:0\n"
     ]
    }
   ],
   "source": [
    "class MultimodalPricePredictor(nn.Module):\n",
    "    \"\"\"\n",
    "    OPTIMIZED Multimodal model for price prediction.\n",
    "    Uses MobileNetV2 (ultra-light), DistilBERT (frozen), and IPQ feature.\n",
    "    \"\"\"\n",
    "    \n",
    "    def __init__(self, config):\n",
    "        super(MultimodalPricePredictor, self).__init__()\n",
    "        \n",
    "        # Image Tower - MobileNetV2 (MUCH lighter and faster than ResNet)\n",
    "        self.image_model = models.mobilenet_v2(pretrained=True)\n",
    "        # Freeze ALL layers for speed\n",
    "        for param in self.image_model.parameters():\n",
    "            param.requires_grad = False\n",
    "        \n",
    "        # Get features before classifier\n",
    "        num_features = self.image_model.classifier[1].in_features\n",
    "        self.image_model.classifier = nn.Identity()\n",
    "        \n",
    "        # Ultra-simple image projection\n",
    "        self.image_projection = nn.Sequential(\n",
    "            nn.Linear(num_features, config.IMAGE_EMBED_DIM),\n",
    "            nn.ReLU()\n",
    "        )\n",
    "        \n",
    "        # Text Tower - DistilBERT (frozen for speed)\n",
    "        self.text_model = DistilBertModel.from_pretrained(config.TRANSFORMER_MODEL)\n",
    "        # Freeze ALL transformer weights\n",
    "        for param in self.text_model.parameters():\n",
    "            param.requires_grad = False\n",
    "        \n",
    "        # Ultra-simple text projection\n",
    "        self.text_projection = nn.Sequential(\n",
    "            nn.Linear(768, config.TEXT_EMBED_DIM),  # DistilBERT hidden size is 768\n",
    "            nn.ReLU()\n",
    "        )\n",
    "        \n",
    "        # Simple Fusion Head\n",
    "        fusion_dim = config.IMAGE_EMBED_DIM + config.TEXT_EMBED_DIM + 1  # +1 for IPQ\n",
    "        \n",
    "        self.fusion_head = nn.Sequential(\n",
    "            nn.Linear(fusion_dim, 64),\n",
    "            nn.ReLU(),\n",
    "            nn.Dropout(config.DROPOUT),\n",
    "            nn.Linear(64, 32),\n",
    "            nn.ReLU(),\n",
    "            nn.Linear(32, 1)\n",
    "        )\n",
    "    \n",
    "    def forward(self, image, input_ids, attention_mask, ipq):\n",
    "        # Image features\n",
    "        image_features = self.image_model(image)\n",
    "        image_embed = self.image_projection(image_features)\n",
    "        \n",
    "        # Text features (with no_grad for extra speed)\n",
    "        with torch.no_grad():\n",
    "            text_output = self.text_model(input_ids=input_ids, attention_mask=attention_mask)\n",
    "        # Use [CLS] token representation\n",
    "        text_features = text_output.last_hidden_state[:, 0, :]\n",
    "        text_embed = self.text_projection(text_features)\n",
    "        \n",
    "        # Expand IPQ to match batch dimension\n",
    "        ipq = ipq.unsqueeze(1)\n",
    "        \n",
    "        # Concatenate all features\n",
    "        fused = torch.cat([image_embed, text_embed, ipq], dim=1)\n",
    "        \n",
    "        # Final prediction\n",
    "        output = self.fusion_head(fused)\n",
    "        \n",
    "        # Ensure positive output using softplus\n",
    "        output = F.softplus(output)\n",
    "        \n",
    "        return output.squeeze(1)\n",
    "\n",
    "\n",
    "# Initialize model\n",
    "print(\"Initializing OPTIMIZED model (MobileNetV2)...\")\n",
    "model = MultimodalPricePredictor(config).to(config.DEVICE)\n",
    "\n",
    "# Count parameters\n",
    "total_params = sum(p.numel() for p in model.parameters())\n",
    "trainable_params = sum(p.numel() for p in model.parameters() if p.requires_grad)\n",
    "\n",
    "print(f\"✓ Model initialized!\")\n",
    "print(f\"  Total parameters: {total_params:,}\")\n",
    "print(f\"  Trainable parameters: {trainable_params:,} ({100*trainable_params/total_params:.1f}%)\")\n",
    "print(f\"  Model size: ~{total_params*4/1024/1024:.1f} MB\")\n",
    "print(f\"  Device: {next(model.parameters()).device}\")"
   ]
  },
  {
   "cell_type": "markdown",
   "id": "74aab585",
   "metadata": {},
   "source": [
    "## Step 10: Loss Function and Optimizer"
   ]
  },
  {
   "cell_type": "code",
   "execution_count": 50,
   "id": "df3d78c9",
   "metadata": {},
   "outputs": [
    {
     "name": "stdout",
     "output_type": "stream",
     "text": [
      "Loss function and optimizer initialized!\n"
     ]
    }
   ],
   "source": [
    "def smape(y_true, y_pred):\n",
    "    \"\"\"\n",
    "    Calculate Symmetric Mean Absolute Percentage Error (SMAPE).\n",
    "    \"\"\"\n",
    "    y_true = y_true.cpu().detach().numpy() if torch.is_tensor(y_true) else y_true\n",
    "    y_pred = y_pred.cpu().detach().numpy() if torch.is_tensor(y_pred) else y_pred\n",
    "    \n",
    "    denominator = (np.abs(y_true) + np.abs(y_pred)) / 2.0\n",
    "    diff = np.abs(y_true - y_pred)\n",
    "    \n",
    "    # Avoid division by zero\n",
    "    smape_val = np.mean(diff / (denominator + 1e-10)) * 100\n",
    "    \n",
    "    return smape_val\n",
    "\n",
    "\n",
    "# Loss function - Mean Absolute Error (good proxy for SMAPE)\n",
    "criterion = nn.L1Loss()\n",
    "\n",
    "# Optimizer\n",
    "optimizer = torch.optim.AdamW(\n",
    "    model.parameters(), \n",
    "    lr=config.LEARNING_RATE, \n",
    "    weight_decay=config.WEIGHT_DECAY\n",
    ")\n",
    "\n",
    "# Learning rate scheduler\n",
    "scheduler = torch.optim.lr_scheduler.ReduceLROnPlateau(\n",
    "    optimizer, \n",
    "    mode='min', \n",
    "    factor=0.5, \n",
    "    patience=2\n",
    ")\n",
    "\n",
    "print(\"Loss function and optimizer initialized!\")"
   ]
  },
  {
   "cell_type": "markdown",
   "id": "a35cdb12",
   "metadata": {},
   "source": [
    "## Step 11: Training Functions"
   ]
  },
  {
   "cell_type": "code",
   "execution_count": 51,
   "id": "fae6ae2d",
   "metadata": {},
   "outputs": [
    {
     "name": "stdout",
     "output_type": "stream",
     "text": [
      "Training functions defined!\n"
     ]
    }
   ],
   "source": [
    "def train_epoch(model, dataloader, criterion, optimizer, device):\n",
    "    \"\"\"\n",
    "    Train the model for one epoch.\n",
    "    \"\"\"\n",
    "    model.train()\n",
    "    running_loss = 0.0\n",
    "    all_preds = []\n",
    "    all_targets = []\n",
    "    \n",
    "    progress_bar = tqdm(dataloader, desc='Training')\n",
    "    \n",
    "    for batch in progress_bar:\n",
    "        # Move data to device\n",
    "        image = batch['image'].to(device)\n",
    "        input_ids = batch['input_ids'].to(device)\n",
    "        attention_mask = batch['attention_mask'].to(device)\n",
    "        ipq = batch['ipq'].to(device)\n",
    "        price = batch['price'].to(device)\n",
    "        \n",
    "        # Zero gradients\n",
    "        optimizer.zero_grad()\n",
    "        \n",
    "        # Forward pass\n",
    "        outputs = model(image, input_ids, attention_mask, ipq)\n",
    "        \n",
    "        # Calculate loss\n",
    "        loss = criterion(outputs, price)\n",
    "        \n",
    "        # Backward pass\n",
    "        loss.backward()\n",
    "        \n",
    "        # Clip gradients\n",
    "        torch.nn.utils.clip_grad_norm_(model.parameters(), max_norm=1.0)\n",
    "        \n",
    "        # Update weights\n",
    "        optimizer.step()\n",
    "        \n",
    "        # Track metrics\n",
    "        running_loss += loss.item() * image.size(0)\n",
    "        all_preds.extend(outputs.cpu().detach().numpy())\n",
    "        all_targets.extend(price.cpu().detach().numpy())\n",
    "        \n",
    "        # Update progress bar\n",
    "        progress_bar.set_postfix({'loss': loss.item()})\n",
    "    \n",
    "    epoch_loss = running_loss / len(dataloader.dataset)\n",
    "    epoch_smape = smape(np.array(all_targets), np.array(all_preds))\n",
    "    \n",
    "    return epoch_loss, epoch_smape\n",
    "\n",
    "\n",
    "def validate_epoch(model, dataloader, criterion, device):\n",
    "    \"\"\"\n",
    "    Validate the model.\n",
    "    \"\"\"\n",
    "    model.eval()\n",
    "    running_loss = 0.0\n",
    "    all_preds = []\n",
    "    all_targets = []\n",
    "    \n",
    "    progress_bar = tqdm(dataloader, desc='Validation')\n",
    "    \n",
    "    with torch.no_grad():\n",
    "        for batch in progress_bar:\n",
    "            # Move data to device\n",
    "            image = batch['image'].to(device)\n",
    "            input_ids = batch['input_ids'].to(device)\n",
    "            attention_mask = batch['attention_mask'].to(device)\n",
    "            ipq = batch['ipq'].to(device)\n",
    "            price = batch['price'].to(device)\n",
    "            \n",
    "            # Forward pass\n",
    "            outputs = model(image, input_ids, attention_mask, ipq)\n",
    "            \n",
    "            # Calculate loss\n",
    "            loss = criterion(outputs, price)\n",
    "            \n",
    "            # Track metrics\n",
    "            running_loss += loss.item() * image.size(0)\n",
    "            all_preds.extend(outputs.cpu().numpy())\n",
    "            all_targets.extend(price.cpu().numpy())\n",
    "            \n",
    "            # Update progress bar\n",
    "            progress_bar.set_postfix({'loss': loss.item()})\n",
    "    \n",
    "    epoch_loss = running_loss / len(dataloader.dataset)\n",
    "    epoch_smape = smape(np.array(all_targets), np.array(all_preds))\n",
    "    \n",
    "    return epoch_loss, epoch_smape\n",
    "\n",
    "\n",
    "print(\"Training functions defined!\")"
   ]
  },
  {
   "cell_type": "markdown",
   "id": "879a4f7d",
   "metadata": {},
   "source": [
    "## Step 12: Train the Model"
   ]
  },
  {
   "cell_type": "code",
   "execution_count": 53,
   "id": "ac42ed5c",
   "metadata": {},
   "outputs": [
    {
     "name": "stdout",
     "output_type": "stream",
     "text": [
      "✓ Mixed Precision (AMP) Enabled - Training will be faster on GPU\n"
     ]
    }
   ],
   "source": [
    "# Setup Mixed Precision Training (AMP) for GPU\n",
    "use_amp = torch.cuda.is_available()  # Enable AMP only if GPU is available\n",
    "scaler = torch.cuda.amp.GradScaler() if use_amp else None\n",
    "\n",
    "if use_amp:\n",
    "    print(\"✓ Mixed Precision (AMP) Enabled - Training will be faster on GPU\")\n",
    "else:\n",
    "    print(\"⚠️  Mixed Precision Disabled - Running on CPU or AMP not available\")\n"
   ]
  },
  {
   "cell_type": "code",
   "execution_count": 56,
   "id": "80211475",
   "metadata": {},
   "outputs": [
    {
     "name": "stdout",
     "output_type": "stream",
     "text": [
      "============================================================\n",
      "STARTING ULTRA-FAST TRAINING\n",
      "============================================================\n",
      "Configuration:\n",
      "  Device: cuda\n",
      "  Batch Size: 128\n",
      "  Epochs: 3\n",
      "  Learning Rate: 0.0003\n",
      "  Mixed Precision: Enabled\n",
      "  Training samples: 67500\n",
      "  Validation samples: 7500\n",
      "============================================================\n",
      "\n",
      "Epoch 1/3\n",
      "------------------------------------------------------------\n"
     ]
    },
    {
     "data": {
      "application/vnd.jupyter.widget-view+json": {
       "model_id": "249382d7d7ea4cf9b23cc7bb793bbf8d",
       "version_major": 2,
       "version_minor": 0
      },
      "text/plain": [
       "Training:   0%|          | 0/528 [00:00<?, ?it/s]"
      ]
     },
     "metadata": {},
     "output_type": "display_data"
    },
    {
     "ename": "KeyboardInterrupt",
     "evalue": "",
     "output_type": "error",
     "traceback": [
      "\u001b[31m---------------------------------------------------------------------------\u001b[39m",
      "\u001b[31mKeyboardInterrupt\u001b[39m                         Traceback (most recent call last)",
      "\u001b[36mCell\u001b[39m\u001b[36m \u001b[39m\u001b[32mIn[56]\u001b[39m\u001b[32m, line 33\u001b[39m\n\u001b[32m     30\u001b[39m \u001b[38;5;28mprint\u001b[39m(\u001b[33m\"\u001b[39m\u001b[33m-\u001b[39m\u001b[33m\"\u001b[39m * \u001b[32m60\u001b[39m)\n\u001b[32m     32\u001b[39m \u001b[38;5;66;03m# Train\u001b[39;00m\n\u001b[32m---> \u001b[39m\u001b[32m33\u001b[39m train_loss, train_smape = \u001b[43mtrain_epoch\u001b[49m\u001b[43m(\u001b[49m\u001b[43mmodel\u001b[49m\u001b[43m,\u001b[49m\u001b[43m \u001b[49m\u001b[43mtrain_loader\u001b[49m\u001b[43m,\u001b[49m\u001b[43m \u001b[49m\u001b[43mcriterion\u001b[49m\u001b[43m,\u001b[49m\u001b[43m \u001b[49m\u001b[43moptimizer\u001b[49m\u001b[43m,\u001b[49m\u001b[43m \u001b[49m\u001b[43mconfig\u001b[49m\u001b[43m.\u001b[49m\u001b[43mDEVICE\u001b[49m\u001b[43m)\u001b[49m\n\u001b[32m     35\u001b[39m \u001b[38;5;66;03m# Validate\u001b[39;00m\n\u001b[32m     36\u001b[39m val_loss, val_smape = validate_epoch(model, val_loader, criterion, config.DEVICE)\n",
      "\u001b[36mCell\u001b[39m\u001b[36m \u001b[39m\u001b[32mIn[51]\u001b[39m\u001b[32m, line 12\u001b[39m, in \u001b[36mtrain_epoch\u001b[39m\u001b[34m(model, dataloader, criterion, optimizer, device)\u001b[39m\n\u001b[32m      8\u001b[39m all_targets = []\n\u001b[32m     10\u001b[39m progress_bar = tqdm(dataloader, desc=\u001b[33m'\u001b[39m\u001b[33mTraining\u001b[39m\u001b[33m'\u001b[39m)\n\u001b[32m---> \u001b[39m\u001b[32m12\u001b[39m \u001b[43m\u001b[49m\u001b[38;5;28;43;01mfor\u001b[39;49;00m\u001b[43m \u001b[49m\u001b[43mbatch\u001b[49m\u001b[43m \u001b[49m\u001b[38;5;129;43;01min\u001b[39;49;00m\u001b[43m \u001b[49m\u001b[43mprogress_bar\u001b[49m\u001b[43m:\u001b[49m\n\u001b[32m     13\u001b[39m \u001b[43m    \u001b[49m\u001b[38;5;66;43;03m# Move data to device\u001b[39;49;00m\n\u001b[32m     14\u001b[39m \u001b[43m    \u001b[49m\u001b[43mimage\u001b[49m\u001b[43m \u001b[49m\u001b[43m=\u001b[49m\u001b[43m \u001b[49m\u001b[43mbatch\u001b[49m\u001b[43m[\u001b[49m\u001b[33;43m'\u001b[39;49m\u001b[33;43mimage\u001b[39;49m\u001b[33;43m'\u001b[39;49m\u001b[43m]\u001b[49m\u001b[43m.\u001b[49m\u001b[43mto\u001b[49m\u001b[43m(\u001b[49m\u001b[43mdevice\u001b[49m\u001b[43m)\u001b[49m\n\u001b[32m     15\u001b[39m \u001b[43m    \u001b[49m\u001b[43minput_ids\u001b[49m\u001b[43m \u001b[49m\u001b[43m=\u001b[49m\u001b[43m \u001b[49m\u001b[43mbatch\u001b[49m\u001b[43m[\u001b[49m\u001b[33;43m'\u001b[39;49m\u001b[33;43minput_ids\u001b[39;49m\u001b[33;43m'\u001b[39;49m\u001b[43m]\u001b[49m\u001b[43m.\u001b[49m\u001b[43mto\u001b[49m\u001b[43m(\u001b[49m\u001b[43mdevice\u001b[49m\u001b[43m)\u001b[49m\n",
      "\u001b[36mFile \u001b[39m\u001b[32m~/github-repos/amazon-ml-challenge/venv/lib/python3.13/site-packages/tqdm/notebook.py:250\u001b[39m, in \u001b[36mtqdm_notebook.__iter__\u001b[39m\u001b[34m(self)\u001b[39m\n\u001b[32m    248\u001b[39m \u001b[38;5;28;01mtry\u001b[39;00m:\n\u001b[32m    249\u001b[39m     it = \u001b[38;5;28msuper\u001b[39m().\u001b[34m__iter__\u001b[39m()\n\u001b[32m--> \u001b[39m\u001b[32m250\u001b[39m \u001b[43m    \u001b[49m\u001b[38;5;28;43;01mfor\u001b[39;49;00m\u001b[43m \u001b[49m\u001b[43mobj\u001b[49m\u001b[43m \u001b[49m\u001b[38;5;129;43;01min\u001b[39;49;00m\u001b[43m \u001b[49m\u001b[43mit\u001b[49m\u001b[43m:\u001b[49m\n\u001b[32m    251\u001b[39m \u001b[43m        \u001b[49m\u001b[38;5;66;43;03m# return super(tqdm...) will not catch exception\u001b[39;49;00m\n\u001b[32m    252\u001b[39m \u001b[43m        \u001b[49m\u001b[38;5;28;43;01myield\u001b[39;49;00m\u001b[43m \u001b[49m\u001b[43mobj\u001b[49m\n\u001b[32m    253\u001b[39m \u001b[38;5;66;03m# NB: except ... [ as ...] breaks IPython async KeyboardInterrupt\u001b[39;00m\n",
      "\u001b[36mFile \u001b[39m\u001b[32m~/github-repos/amazon-ml-challenge/venv/lib/python3.13/site-packages/tqdm/std.py:1181\u001b[39m, in \u001b[36mtqdm.__iter__\u001b[39m\u001b[34m(self)\u001b[39m\n\u001b[32m   1178\u001b[39m time = \u001b[38;5;28mself\u001b[39m._time\n\u001b[32m   1180\u001b[39m \u001b[38;5;28;01mtry\u001b[39;00m:\n\u001b[32m-> \u001b[39m\u001b[32m1181\u001b[39m \u001b[43m    \u001b[49m\u001b[38;5;28;43;01mfor\u001b[39;49;00m\u001b[43m \u001b[49m\u001b[43mobj\u001b[49m\u001b[43m \u001b[49m\u001b[38;5;129;43;01min\u001b[39;49;00m\u001b[43m \u001b[49m\u001b[43miterable\u001b[49m\u001b[43m:\u001b[49m\n\u001b[32m   1182\u001b[39m \u001b[43m        \u001b[49m\u001b[38;5;28;43;01myield\u001b[39;49;00m\u001b[43m \u001b[49m\u001b[43mobj\u001b[49m\n\u001b[32m   1183\u001b[39m \u001b[43m        \u001b[49m\u001b[38;5;66;43;03m# Update and possibly print the progressbar.\u001b[39;49;00m\n\u001b[32m   1184\u001b[39m \u001b[43m        \u001b[49m\u001b[38;5;66;43;03m# Note: does not call self.update(1) for speed optimisation.\u001b[39;49;00m\n",
      "\u001b[36mFile \u001b[39m\u001b[32m~/github-repos/amazon-ml-challenge/venv/lib/python3.13/site-packages/torch/utils/data/dataloader.py:734\u001b[39m, in \u001b[36m_BaseDataLoaderIter.__next__\u001b[39m\u001b[34m(self)\u001b[39m\n\u001b[32m    731\u001b[39m \u001b[38;5;28;01mif\u001b[39;00m \u001b[38;5;28mself\u001b[39m._sampler_iter \u001b[38;5;129;01mis\u001b[39;00m \u001b[38;5;28;01mNone\u001b[39;00m:\n\u001b[32m    732\u001b[39m     \u001b[38;5;66;03m# TODO(https://github.com/pytorch/pytorch/issues/76750)\u001b[39;00m\n\u001b[32m    733\u001b[39m     \u001b[38;5;28mself\u001b[39m._reset()  \u001b[38;5;66;03m# type: ignore[call-arg]\u001b[39;00m\n\u001b[32m--> \u001b[39m\u001b[32m734\u001b[39m data = \u001b[38;5;28;43mself\u001b[39;49m\u001b[43m.\u001b[49m\u001b[43m_next_data\u001b[49m\u001b[43m(\u001b[49m\u001b[43m)\u001b[49m\n\u001b[32m    735\u001b[39m \u001b[38;5;28mself\u001b[39m._num_yielded += \u001b[32m1\u001b[39m\n\u001b[32m    736\u001b[39m \u001b[38;5;28;01mif\u001b[39;00m (\n\u001b[32m    737\u001b[39m     \u001b[38;5;28mself\u001b[39m._dataset_kind == _DatasetKind.Iterable\n\u001b[32m    738\u001b[39m     \u001b[38;5;129;01mand\u001b[39;00m \u001b[38;5;28mself\u001b[39m._IterableDataset_len_called \u001b[38;5;129;01mis\u001b[39;00m \u001b[38;5;129;01mnot\u001b[39;00m \u001b[38;5;28;01mNone\u001b[39;00m\n\u001b[32m    739\u001b[39m     \u001b[38;5;129;01mand\u001b[39;00m \u001b[38;5;28mself\u001b[39m._num_yielded > \u001b[38;5;28mself\u001b[39m._IterableDataset_len_called\n\u001b[32m    740\u001b[39m ):\n",
      "\u001b[36mFile \u001b[39m\u001b[32m~/github-repos/amazon-ml-challenge/venv/lib/python3.13/site-packages/torch/utils/data/dataloader.py:790\u001b[39m, in \u001b[36m_SingleProcessDataLoaderIter._next_data\u001b[39m\u001b[34m(self)\u001b[39m\n\u001b[32m    788\u001b[39m \u001b[38;5;28;01mdef\u001b[39;00m\u001b[38;5;250m \u001b[39m\u001b[34m_next_data\u001b[39m(\u001b[38;5;28mself\u001b[39m):\n\u001b[32m    789\u001b[39m     index = \u001b[38;5;28mself\u001b[39m._next_index()  \u001b[38;5;66;03m# may raise StopIteration\u001b[39;00m\n\u001b[32m--> \u001b[39m\u001b[32m790\u001b[39m     data = \u001b[38;5;28;43mself\u001b[39;49m\u001b[43m.\u001b[49m\u001b[43m_dataset_fetcher\u001b[49m\u001b[43m.\u001b[49m\u001b[43mfetch\u001b[49m\u001b[43m(\u001b[49m\u001b[43mindex\u001b[49m\u001b[43m)\u001b[49m  \u001b[38;5;66;03m# may raise StopIteration\u001b[39;00m\n\u001b[32m    791\u001b[39m     \u001b[38;5;28;01mif\u001b[39;00m \u001b[38;5;28mself\u001b[39m._pin_memory:\n\u001b[32m    792\u001b[39m         data = _utils.pin_memory.pin_memory(data, \u001b[38;5;28mself\u001b[39m._pin_memory_device)\n",
      "\u001b[36mFile \u001b[39m\u001b[32m~/github-repos/amazon-ml-challenge/venv/lib/python3.13/site-packages/torch/utils/data/_utils/fetch.py:52\u001b[39m, in \u001b[36m_MapDatasetFetcher.fetch\u001b[39m\u001b[34m(self, possibly_batched_index)\u001b[39m\n\u001b[32m     50\u001b[39m         data = \u001b[38;5;28mself\u001b[39m.dataset.__getitems__(possibly_batched_index)\n\u001b[32m     51\u001b[39m     \u001b[38;5;28;01melse\u001b[39;00m:\n\u001b[32m---> \u001b[39m\u001b[32m52\u001b[39m         data = [\u001b[38;5;28;43mself\u001b[39;49m\u001b[43m.\u001b[49m\u001b[43mdataset\u001b[49m\u001b[43m[\u001b[49m\u001b[43midx\u001b[49m\u001b[43m]\u001b[49m \u001b[38;5;28;01mfor\u001b[39;00m idx \u001b[38;5;129;01min\u001b[39;00m possibly_batched_index]\n\u001b[32m     53\u001b[39m \u001b[38;5;28;01melse\u001b[39;00m:\n\u001b[32m     54\u001b[39m     data = \u001b[38;5;28mself\u001b[39m.dataset[possibly_batched_index]\n",
      "\u001b[36mCell\u001b[39m\u001b[36m \u001b[39m\u001b[32mIn[46]\u001b[39m\u001b[32m, line 24\u001b[39m, in \u001b[36mPriceDataset.__getitem__\u001b[39m\u001b[34m(self, idx)\u001b[39m\n\u001b[32m     21\u001b[39m row = \u001b[38;5;28mself\u001b[39m.df.iloc[idx]\n\u001b[32m     23\u001b[39m \u001b[38;5;66;03m# Load and process image\u001b[39;00m\n\u001b[32m---> \u001b[39m\u001b[32m24\u001b[39m image = \u001b[38;5;28;43mself\u001b[39;49m\u001b[43m.\u001b[49m\u001b[43m_load_image\u001b[49m\u001b[43m(\u001b[49m\u001b[43mrow\u001b[49m\u001b[43m[\u001b[49m\u001b[33;43m'\u001b[39;49m\u001b[33;43mimage_link\u001b[39;49m\u001b[33;43m'\u001b[39;49m\u001b[43m]\u001b[49m\u001b[43m)\u001b[49m\n\u001b[32m     25\u001b[39m \u001b[38;5;28;01mif\u001b[39;00m \u001b[38;5;28mself\u001b[39m.transform:\n\u001b[32m     26\u001b[39m     image = \u001b[38;5;28mself\u001b[39m.transform(image)\n",
      "\u001b[36mCell\u001b[39m\u001b[36m \u001b[39m\u001b[32mIn[46]\u001b[39m\u001b[32m, line 71\u001b[39m, in \u001b[36mPriceDataset._load_image\u001b[39m\u001b[34m(self, image_link)\u001b[39m\n\u001b[32m     68\u001b[39m image_path = os.path.join(\u001b[38;5;28mself\u001b[39m.image_folder, filename)\n\u001b[32m     70\u001b[39m \u001b[38;5;28;01mtry\u001b[39;00m:\n\u001b[32m---> \u001b[39m\u001b[32m71\u001b[39m     image = \u001b[43mImage\u001b[49m\u001b[43m.\u001b[49m\u001b[43mopen\u001b[49m\u001b[43m(\u001b[49m\u001b[43mimage_path\u001b[49m\u001b[43m)\u001b[49m.convert(\u001b[33m'\u001b[39m\u001b[33mRGB\u001b[39m\u001b[33m'\u001b[39m)\n\u001b[32m     72\u001b[39m     \u001b[38;5;28;01mreturn\u001b[39;00m image\n\u001b[32m     73\u001b[39m \u001b[38;5;28;01mexcept\u001b[39;00m \u001b[38;5;167;01mException\u001b[39;00m \u001b[38;5;28;01mas\u001b[39;00m e:\n\u001b[32m     74\u001b[39m     \u001b[38;5;66;03m# Return default image if loading fails\u001b[39;00m\n",
      "\u001b[36mFile \u001b[39m\u001b[32m~/github-repos/amazon-ml-challenge/venv/lib/python3.13/site-packages/PIL/Image.py:3559\u001b[39m, in \u001b[36mopen\u001b[39m\u001b[34m(fp, mode, formats)\u001b[39m\n\u001b[32m   3556\u001b[39m             \u001b[38;5;28;01mraise\u001b[39;00m\n\u001b[32m   3557\u001b[39m     \u001b[38;5;28;01mreturn\u001b[39;00m \u001b[38;5;28;01mNone\u001b[39;00m\n\u001b[32m-> \u001b[39m\u001b[32m3559\u001b[39m im = \u001b[43m_open_core\u001b[49m\u001b[43m(\u001b[49m\u001b[43mfp\u001b[49m\u001b[43m,\u001b[49m\u001b[43m \u001b[49m\u001b[43mfilename\u001b[49m\u001b[43m,\u001b[49m\u001b[43m \u001b[49m\u001b[43mprefix\u001b[49m\u001b[43m,\u001b[49m\u001b[43m \u001b[49m\u001b[43mformats\u001b[49m\u001b[43m)\u001b[49m\n\u001b[32m   3561\u001b[39m \u001b[38;5;28;01mif\u001b[39;00m im \u001b[38;5;129;01mis\u001b[39;00m \u001b[38;5;28;01mNone\u001b[39;00m \u001b[38;5;129;01mand\u001b[39;00m formats \u001b[38;5;129;01mis\u001b[39;00m ID:\n\u001b[32m   3562\u001b[39m     checked_formats = ID.copy()\n",
      "\u001b[36mFile \u001b[39m\u001b[32m~/github-repos/amazon-ml-challenge/venv/lib/python3.13/site-packages/PIL/Image.py:3547\u001b[39m, in \u001b[36mopen.<locals>._open_core\u001b[39m\u001b[34m(fp, filename, prefix, formats)\u001b[39m\n\u001b[32m   3545\u001b[39m \u001b[38;5;28;01melif\u001b[39;00m result:\n\u001b[32m   3546\u001b[39m     fp.seek(\u001b[32m0\u001b[39m)\n\u001b[32m-> \u001b[39m\u001b[32m3547\u001b[39m     im = \u001b[43mfactory\u001b[49m\u001b[43m(\u001b[49m\u001b[43mfp\u001b[49m\u001b[43m,\u001b[49m\u001b[43m \u001b[49m\u001b[43mfilename\u001b[49m\u001b[43m)\u001b[49m\n\u001b[32m   3548\u001b[39m     _decompression_bomb_check(im.size)\n\u001b[32m   3549\u001b[39m     \u001b[38;5;28;01mreturn\u001b[39;00m im\n",
      "\u001b[36mFile \u001b[39m\u001b[32m~/github-repos/amazon-ml-challenge/venv/lib/python3.13/site-packages/PIL/JpegImagePlugin.py:870\u001b[39m, in \u001b[36mjpeg_factory\u001b[39m\u001b[34m(fp, filename)\u001b[39m\n\u001b[32m    867\u001b[39m \u001b[38;5;28;01mdef\u001b[39;00m\u001b[38;5;250m \u001b[39m\u001b[34mjpeg_factory\u001b[39m(\n\u001b[32m    868\u001b[39m     fp: IO[\u001b[38;5;28mbytes\u001b[39m], filename: \u001b[38;5;28mstr\u001b[39m | \u001b[38;5;28mbytes\u001b[39m | \u001b[38;5;28;01mNone\u001b[39;00m = \u001b[38;5;28;01mNone\u001b[39;00m\n\u001b[32m    869\u001b[39m ) -> JpegImageFile | MpoImageFile:\n\u001b[32m--> \u001b[39m\u001b[32m870\u001b[39m     im = \u001b[43mJpegImageFile\u001b[49m\u001b[43m(\u001b[49m\u001b[43mfp\u001b[49m\u001b[43m,\u001b[49m\u001b[43m \u001b[49m\u001b[43mfilename\u001b[49m\u001b[43m)\u001b[49m\n\u001b[32m    871\u001b[39m     \u001b[38;5;28;01mtry\u001b[39;00m:\n\u001b[32m    872\u001b[39m         mpheader = im._getmp()\n",
      "\u001b[36mFile \u001b[39m\u001b[32m~/github-repos/amazon-ml-challenge/venv/lib/python3.13/site-packages/PIL/ImageFile.py:128\u001b[39m, in \u001b[36mImageFile.__init__\u001b[39m\u001b[34m(self, fp, filename)\u001b[39m\n\u001b[32m    125\u001b[39m \u001b[38;5;28mself\u001b[39m.tile: \u001b[38;5;28mlist\u001b[39m[_Tile] = []\n\u001b[32m    126\u001b[39m \u001b[38;5;250m\u001b[39m\u001b[33;03m\"\"\" A list of tile descriptors \"\"\"\u001b[39;00m\n\u001b[32m--> \u001b[39m\u001b[32m128\u001b[39m \u001b[38;5;28;43mself\u001b[39;49m\u001b[43m.\u001b[49m\u001b[43mreadonly\u001b[49m = \u001b[32m1\u001b[39m  \u001b[38;5;66;03m# until we know better\u001b[39;00m\n\u001b[32m    130\u001b[39m \u001b[38;5;28mself\u001b[39m.decoderconfig: \u001b[38;5;28mtuple\u001b[39m[Any, ...] = ()\n\u001b[32m    131\u001b[39m \u001b[38;5;28mself\u001b[39m.decodermaxblock = MAXBLOCK\n",
      "\u001b[36mFile \u001b[39m\u001b[32m~/github-repos/amazon-ml-challenge/venv/lib/python3.13/site-packages/PIL/Image.py:584\u001b[39m, in \u001b[36mImage.readonly\u001b[39m\u001b[34m(self, readonly)\u001b[39m\n\u001b[32m    580\u001b[39m \u001b[38;5;129m@property\u001b[39m\n\u001b[32m    581\u001b[39m \u001b[38;5;28;01mdef\u001b[39;00m\u001b[38;5;250m \u001b[39m\u001b[34mreadonly\u001b[39m(\u001b[38;5;28mself\u001b[39m) -> \u001b[38;5;28mint\u001b[39m:\n\u001b[32m    582\u001b[39m     \u001b[38;5;28;01mreturn\u001b[39;00m (\u001b[38;5;28mself\u001b[39m._im \u001b[38;5;129;01mand\u001b[39;00m \u001b[38;5;28mself\u001b[39m._im.readonly) \u001b[38;5;129;01mor\u001b[39;00m \u001b[38;5;28mself\u001b[39m._readonly\n\u001b[32m--> \u001b[39m\u001b[32m584\u001b[39m \u001b[38;5;129m@readonly\u001b[39m.setter\n\u001b[32m    585\u001b[39m \u001b[38;5;28;01mdef\u001b[39;00m\u001b[38;5;250m \u001b[39m\u001b[34mreadonly\u001b[39m(\u001b[38;5;28mself\u001b[39m, readonly: \u001b[38;5;28mint\u001b[39m) -> \u001b[38;5;28;01mNone\u001b[39;00m:\n\u001b[32m    586\u001b[39m     \u001b[38;5;28mself\u001b[39m._readonly = readonly\n\u001b[32m    588\u001b[39m \u001b[38;5;28;01mdef\u001b[39;00m\u001b[38;5;250m \u001b[39m\u001b[34m_new\u001b[39m(\u001b[38;5;28mself\u001b[39m, im: core.ImagingCore) -> Image:\n",
      "\u001b[31mKeyboardInterrupt\u001b[39m: "
     ]
    }
   ],
   "source": [
    "# Training loop\n",
    "import time\n",
    "\n",
    "best_val_smape = float('inf')\n",
    "train_losses = []\n",
    "val_losses = []\n",
    "train_smapes = []\n",
    "val_smapes = []\n",
    "\n",
    "print(\"=\"*60)\n",
    "print(\"STARTING ULTRA-FAST TRAINING\")\n",
    "print(\"=\"*60)\n",
    "print(f\"Configuration:\")\n",
    "print(f\"  Device: {config.DEVICE}\")\n",
    "print(f\"  Batch Size: {config.BATCH_SIZE}\")\n",
    "print(f\"  Epochs: {config.EPOCHS}\")\n",
    "print(f\"  Learning Rate: {config.LEARNING_RATE}\")\n",
    "print(f\"  Mixed Precision: {'Enabled' if use_amp else 'Disabled'}\")\n",
    "print(f\"  Training samples: {len(train_data)}\")\n",
    "print(f\"  Validation samples: {len(val_data)}\")\n",
    "print(\"=\"*60)\n",
    "print()\n",
    "\n",
    "total_start_time = time.time()\n",
    "\n",
    "for epoch in range(config.EPOCHS):\n",
    "    epoch_start_time = time.time()\n",
    "    \n",
    "    print(f\"Epoch {epoch + 1}/{config.EPOCHS}\")\n",
    "    print(\"-\" * 60)\n",
    "    \n",
    "    # Train\n",
    "    train_loss, train_smape = train_epoch(model, train_loader, criterion, optimizer, config.DEVICE)\n",
    "    \n",
    "    # Validate\n",
    "    val_loss, val_smape = validate_epoch(model, val_loader, criterion, config.DEVICE)\n",
    "    \n",
    "    # Store metrics\n",
    "    train_losses.append(train_loss)\n",
    "    val_losses.append(val_loss)\n",
    "    train_smapes.append(train_smape)\n",
    "    val_smapes.append(val_smape)\n",
    "    \n",
    "    epoch_time = time.time() - epoch_start_time\n",
    "    \n",
    "    # Print epoch results\n",
    "    print(f\"\\n📊 Results:\")\n",
    "    print(f\"  Train Loss: {train_loss:.4f} | Train SMAPE: {train_smape:.4f}%\")\n",
    "    print(f\"  Val Loss: {val_loss:.4f} | Val SMAPE: {val_smape:.4f}%\")\n",
    "    print(f\"  ⏱️  Epoch time: {epoch_time:.1f}s ({epoch_time/60:.1f} min)\")\n",
    "    \n",
    "    # Update learning rate\n",
    "    scheduler.step(val_smape)\n",
    "    \n",
    "    # Save best model\n",
    "    if val_smape < best_val_smape:\n",
    "        best_val_smape = val_smape\n",
    "        torch.save(model.state_dict(), config.MODEL_SAVE_PATH)\n",
    "        print(f\"  ✓ Best model saved! (Val SMAPE: {val_smape:.4f}%)\")\n",
    "    \n",
    "    print()\n",
    "\n",
    "total_time = time.time() - total_start_time\n",
    "\n",
    "print(\"=\"*60)\n",
    "print(\"TRAINING COMPLETE!\")\n",
    "print(\"=\"*60)\n",
    "print(f\"✓ Best validation SMAPE: {best_val_smape:.4f}%\")\n",
    "print(f\"✓ Total training time: {total_time:.1f}s ({total_time/60:.1f} min)\")\n",
    "print(f\"✓ Average time per epoch: {total_time/config.EPOCHS:.1f}s\")\n",
    "print(\"=\"*60)\n"
   ]
  },
  {
   "cell_type": "markdown",
   "id": "ceb9df8f",
   "metadata": {},
   "source": [
    "## Step 13: Plot Training History"
   ]
  },
  {
   "cell_type": "code",
   "execution_count": 57,
   "id": "d04242db",
   "metadata": {},
   "outputs": [
    {
     "data": {
      "image/png": "[encoded data removed]",
      "text/plain": [
       "<Figure size 1500x500 with 2 Axes>"
      ]
     },
     "metadata": {},
     "output_type": "display_data"
    },
    {
     "name": "stdout",
     "output_type": "stream",
     "text": [
      "Training history plotted!\n"
     ]
    }
   ],
   "source": [
    "import matplotlib.pyplot as plt\n",
    "\n",
    "# Plot training history\n",
    "fig, axes = plt.subplots(1, 2, figsize=(15, 5))\n",
    "\n",
    "# Loss plot\n",
    "axes[0].plot(train_losses, label='Train Loss', marker='o')\n",
    "axes[0].plot(val_losses, label='Val Loss', marker='s')\n",
    "axes[0].set_xlabel('Epoch')\n",
    "axes[0].set_ylabel('Loss (MAE)')\n",
    "axes[0].set_title('Training and Validation Loss')\n",
    "axes[0].legend()\n",
    "axes[0].grid(True)\n",
    "\n",
    "# SMAPE plot\n",
    "axes[1].plot(train_smapes, label='Train SMAPE', marker='o')\n",
    "axes[1].plot(val_smapes, label='Val SMAPE', marker='s')\n",
    "axes[1].set_xlabel('Epoch')\n",
    "axes[1].set_ylabel('SMAPE (%)')\n",
    "axes[1].set_title('Training and Validation SMAPE')\n",
    "axes[1].legend()\n",
    "axes[1].grid(True)\n",
    "\n",
    "plt.tight_layout()\n",
    "plt.savefig('training_history.png', dpi=150, bbox_inches='tight')\n",
    "plt.show()\n",
    "\n",
    "print(\"Training history plotted!\")"
   ]
  },
  {
   "cell_type": "markdown",
   "id": "457895f5",
   "metadata": {},
   "source": [
    "## Step 14: Load Best Model and Generate Predictions"
   ]
  },
  {
   "cell_type": "code",
   "execution_count": 58,
   "id": "d791f1ef",
   "metadata": {},
   "outputs": [
    {
     "name": "stdout",
     "output_type": "stream",
     "text": [
      "Loading best model...\n"
     ]
    },
    {
     "ename": "RuntimeError",
     "evalue": "Error(s) in loading state_dict for MultimodalPricePredictor:\n\tMissing key(s) in state_dict: \"image_model.features.0.0.weight\", \"image_model.features.0.1.weight\", \"image_model.features.0.1.bias\", \"image_model.features.0.1.running_mean\", \"image_model.features.0.1.running_var\", \"image_model.features.1.conv.0.0.weight\", \"image_model.features.1.conv.0.1.weight\", \"image_model.features.1.conv.0.1.bias\", \"image_model.features.1.conv.0.1.running_mean\", \"image_model.features.1.conv.0.1.running_var\", \"image_model.features.1.conv.1.weight\", \"image_model.features.1.conv.2.weight\", \"image_model.features.1.conv.2.bias\", \"image_model.features.1.conv.2.running_mean\", \"image_model.features.1.conv.2.running_var\", \"image_model.features.2.conv.0.0.weight\", \"image_model.features.2.conv.0.1.weight\", \"image_model.features.2.conv.0.1.bias\", \"image_model.features.2.conv.0.1.running_mean\", \"image_model.features.2.conv.0.1.running_var\", \"image_model.features.2.conv.1.0.weight\", \"image_model.features.2.conv.1.1.weight\", \"image_model.features.2.conv.1.1.bias\", \"image_model.features.2.conv.1.1.running_mean\", \"image_model.features.2.conv.1.1.running_var\", \"image_model.features.2.conv.2.weight\", \"image_model.features.2.conv.3.weight\", \"image_model.features.2.conv.3.bias\", \"image_model.features.2.conv.3.running_mean\", \"image_model.features.2.conv.3.running_var\", \"image_model.features.3.conv.0.0.weight\", \"image_model.features.3.conv.0.1.weight\", \"image_model.features.3.conv.0.1.bias\", \"image_model.features.3.conv.0.1.running_mean\", \"image_model.features.3.conv.0.1.running_var\", \"image_model.features.3.conv.1.0.weight\", \"image_model.features.3.conv.1.1.weight\", \"image_model.features.3.conv.1.1.bias\", \"image_model.features.3.conv.1.1.running_mean\", \"image_model.features.3.conv.1.1.running_var\", \"image_model.features.3.conv.2.weight\", \"image_model.features.3.conv.3.weight\", \"image_model.features.3.conv.3.bias\", \"image_model.features.3.conv.3.running_mean\", \"image_model.features.3.conv.3.running_var\", \"image_model.features.4.conv.0.0.weight\", \"image_model.features.4.conv.0.1.weight\", \"image_model.features.4.conv.0.1.bias\", \"image_model.features.4.conv.0.1.running_mean\", \"image_model.features.4.conv.0.1.running_var\", \"image_model.features.4.conv.1.0.weight\", \"image_model.features.4.conv.1.1.weight\", \"image_model.features.4.conv.1.1.bias\", \"image_model.features.4.conv.1.1.running_mean\", \"image_model.features.4.conv.1.1.running_var\", \"image_model.features.4.conv.2.weight\", \"image_model.features.4.conv.3.weight\", \"image_model.features.4.conv.3.bias\", \"image_model.features.4.conv.3.running_mean\", \"image_model.features.4.conv.3.running_var\", \"image_model.features.5.conv.0.0.weight\", \"image_model.features.5.conv.0.1.weight\", \"image_model.features.5.conv.0.1.bias\", \"image_model.features.5.conv.0.1.running_mean\", \"image_model.features.5.conv.0.1.running_var\", \"image_model.features.5.conv.1.0.weight\", \"image_model.features.5.conv.1.1.weight\", \"image_model.features.5.conv.1.1.bias\", \"image_model.features.5.conv.1.1.running_mean\", \"image_model.features.5.conv.1.1.running_var\", \"image_model.features.5.conv.2.weight\", \"image_model.features.5.conv.3.weight\", \"image_model.features.5.conv.3.bias\", \"image_model.features.5.conv.3.running_mean\", \"image_model.features.5.conv.3.running_var\", \"image_model.features.6.conv.0.0.weight\", \"image_model.features.6.conv.0.1.weight\", \"image_model.features.6.conv.0.1.bias\", \"image_model.features.6.conv.0.1.running_mean\", \"image_model.features.6.conv.0.1.running_var\", \"image_model.features.6.conv.1.0.weight\", \"image_model.features.6.conv.1.1.weight\", \"image_model.features.6.conv.1.1.bias\", \"image_model.features.6.conv.1.1.running_mean\", \"image_model.features.6.conv.1.1.running_var\", \"image_model.features.6.conv.2.weight\", \"image_model.features.6.conv.3.weight\", \"image_model.features.6.conv.3.bias\", \"image_model.features.6.conv.3.running_mean\", \"image_model.features.6.conv.3.running_var\", \"image_model.features.7.conv.0.0.weight\", \"image_model.features.7.conv.0.1.weight\", \"image_model.features.7.conv.0.1.bias\", \"image_model.features.7.conv.0.1.running_mean\", \"image_model.features.7.conv.0.1.running_var\", \"image_model.features.7.conv.1.0.weight\", \"image_model.features.7.conv.1.1.weight\", \"image_model.features.7.conv.1.1.bias\", \"image_model.features.7.conv.1.1.running_mean\", \"image_model.features.7.conv.1.1.running_var\", \"image_model.features.7.conv.2.weight\", \"image_model.features.7.conv.3.weight\", \"image_model.features.7.conv.3.bias\", \"image_model.features.7.conv.3.running_mean\", \"image_model.features.7.conv.3.running_var\", \"image_model.features.8.conv.0.0.weight\", \"image_model.features.8.conv.0.1.weight\", \"image_model.features.8.conv.0.1.bias\", \"image_model.features.8.conv.0.1.running_mean\", \"image_model.features.8.conv.0.1.running_var\", \"image_model.features.8.conv.1.0.weight\", \"image_model.features.8.conv.1.1.weight\", \"image_model.features.8.conv.1.1.bias\", \"image_model.features.8.conv.1.1.running_mean\", \"image_model.features.8.conv.1.1.running_var\", \"image_model.features.8.conv.2.weight\", \"image_model.features.8.conv.3.weight\", \"image_model.features.8.conv.3.bias\", \"image_model.features.8.conv.3.running_mean\", \"image_model.features.8.conv.3.running_var\", \"image_model.features.9.conv.0.0.weight\", \"image_model.features.9.conv.0.1.weight\", \"image_model.features.9.conv.0.1.bias\", \"image_model.features.9.conv.0.1.running_mean\", \"image_model.features.9.conv.0.1.running_var\", \"image_model.features.9.conv.1.0.weight\", \"image_model.features.9.conv.1.1.weight\", \"image_model.features.9.conv.1.1.bias\", \"image_model.features.9.conv.1.1.running_mean\", \"image_model.features.9.conv.1.1.running_var\", \"image_model.features.9.conv.2.weight\", \"image_model.features.9.conv.3.weight\", \"image_model.features.9.conv.3.bias\", \"image_model.features.9.conv.3.running_mean\", \"image_model.features.9.conv.3.running_var\", \"image_model.features.10.conv.0.0.weight\", \"image_model.features.10.conv.0.1.weight\", \"image_model.features.10.conv.0.1.bias\", \"image_model.features.10.conv.0.1.running_mean\", \"image_model.features.10.conv.0.1.running_var\", \"image_model.features.10.conv.1.0.weight\", \"image_model.features.10.conv.1.1.weight\", \"image_model.features.10.conv.1.1.bias\", \"image_model.features.10.conv.1.1.running_mean\", \"image_model.features.10.conv.1.1.running_var\", \"image_model.features.10.conv.2.weight\", \"image_model.features.10.conv.3.weight\", \"image_model.features.10.conv.3.bias\", \"image_model.features.10.conv.3.running_mean\", \"image_model.features.10.conv.3.running_var\", \"image_model.features.11.conv.0.0.weight\", \"image_model.features.11.conv.0.1.weight\", \"image_model.features.11.conv.0.1.bias\", \"image_model.features.11.conv.0.1.running_mean\", \"image_model.features.11.conv.0.1.running_var\", \"image_model.features.11.conv.1.0.weight\", \"image_model.features.11.conv.1.1.weight\", \"image_model.features.11.conv.1.1.bias\", \"image_model.features.11.conv.1.1.running_mean\", \"image_model.features.11.conv.1.1.running_var\", \"image_model.features.11.conv.2.weight\", \"image_model.features.11.conv.3.weight\", \"image_model.features.11.conv.3.bias\", \"image_model.features.11.conv.3.running_mean\", \"image_model.features.11.conv.3.running_var\", \"image_model.features.12.conv.0.0.weight\", \"image_model.features.12.conv.0.1.weight\", \"image_model.features.12.conv.0.1.bias\", \"image_model.features.12.conv.0.1.running_mean\", \"image_model.features.12.conv.0.1.running_var\", \"image_model.features.12.conv.1.0.weight\", \"image_model.features.12.conv.1.1.weight\", \"image_model.features.12.conv.1.1.bias\", \"image_model.features.12.conv.1.1.running_mean\", \"image_model.features.12.conv.1.1.running_var\", \"image_model.features.12.conv.2.weight\", \"image_model.features.12.conv.3.weight\", \"image_model.features.12.conv.3.bias\", \"image_model.features.12.conv.3.running_mean\", \"image_model.features.12.conv.3.running_var\", \"image_model.features.13.conv.0.0.weight\", \"image_model.features.13.conv.0.1.weight\", \"image_model.features.13.conv.0.1.bias\", \"image_model.features.13.conv.0.1.running_mean\", \"image_model.features.13.conv.0.1.running_var\", \"image_model.features.13.conv.1.0.weight\", \"image_model.features.13.conv.1.1.weight\", \"image_model.features.13.conv.1.1.bias\", \"image_model.features.13.conv.1.1.running_mean\", \"image_model.features.13.conv.1.1.running_var\", \"image_model.features.13.conv.2.weight\", \"image_model.features.13.conv.3.weight\", \"image_model.features.13.conv.3.bias\", \"image_model.features.13.conv.3.running_mean\", \"image_model.features.13.conv.3.running_var\", \"image_model.features.14.conv.0.0.weight\", \"image_model.features.14.conv.0.1.weight\", \"image_model.features.14.conv.0.1.bias\", \"image_model.features.14.conv.0.1.running_mean\", \"image_model.features.14.conv.0.1.running_var\", \"image_model.features.14.conv.1.0.weight\", \"image_model.features.14.conv.1.1.weight\", \"image_model.features.14.conv.1.1.bias\", \"image_model.features.14.conv.1.1.running_mean\", \"image_model.features.14.conv.1.1.running_var\", \"image_model.features.14.conv.2.weight\", \"image_model.features.14.conv.3.weight\", \"image_model.features.14.conv.3.bias\", \"image_model.features.14.conv.3.running_mean\", \"image_model.features.14.conv.3.running_var\", \"image_model.features.15.conv.0.0.weight\", \"image_model.features.15.conv.0.1.weight\", \"image_model.features.15.conv.0.1.bias\", \"image_model.features.15.conv.0.1.running_mean\", \"image_model.features.15.conv.0.1.running_var\", \"image_model.features.15.conv.1.0.weight\", \"image_model.features.15.conv.1.1.weight\", \"image_model.features.15.conv.1.1.bias\", \"image_model.features.15.conv.1.1.running_mean\", \"image_model.features.15.conv.1.1.running_var\", \"image_model.features.15.conv.2.weight\", \"image_model.features.15.conv.3.weight\", \"image_model.features.15.conv.3.bias\", \"image_model.features.15.conv.3.running_mean\", \"image_model.features.15.conv.3.running_var\", \"image_model.features.16.conv.0.0.weight\", \"image_model.features.16.conv.0.1.weight\", \"image_model.features.16.conv.0.1.bias\", \"image_model.features.16.conv.0.1.running_mean\", \"image_model.features.16.conv.0.1.running_var\", \"image_model.features.16.conv.1.0.weight\", \"image_model.features.16.conv.1.1.weight\", \"image_model.features.16.conv.1.1.bias\", \"image_model.features.16.conv.1.1.running_mean\", \"image_model.features.16.conv.1.1.running_var\", \"image_model.features.16.conv.2.weight\", \"image_model.features.16.conv.3.weight\", \"image_model.features.16.conv.3.bias\", \"image_model.features.16.conv.3.running_mean\", \"image_model.features.16.conv.3.running_var\", \"image_model.features.17.conv.0.0.weight\", \"image_model.features.17.conv.0.1.weight\", \"image_model.features.17.conv.0.1.bias\", \"image_model.features.17.conv.0.1.running_mean\", \"image_model.features.17.conv.0.1.running_var\", \"image_model.features.17.conv.1.0.weight\", \"image_model.features.17.conv.1.1.weight\", \"image_model.features.17.conv.1.1.bias\", \"image_model.features.17.conv.1.1.running_mean\", \"image_model.features.17.conv.1.1.running_var\", \"image_model.features.17.conv.2.weight\", \"image_model.features.17.conv.3.weight\", \"image_model.features.17.conv.3.bias\", \"image_model.features.17.conv.3.running_mean\", \"image_model.features.17.conv.3.running_var\", \"image_model.features.18.0.weight\", \"image_model.features.18.1.weight\", \"image_model.features.18.1.bias\", \"image_model.features.18.1.running_mean\", \"image_model.features.18.1.running_var\", \"fusion_head.5.weight\", \"fusion_head.5.bias\". \n\tUnexpected key(s) in state_dict: \"image_model.conv1.weight\", \"image_model.bn1.weight\", \"image_model.bn1.bias\", \"image_model.bn1.running_mean\", \"image_model.bn1.running_var\", \"image_model.bn1.num_batches_tracked\", \"image_model.layer1.0.conv1.weight\", \"image_model.layer1.0.bn1.weight\", \"image_model.layer1.0.bn1.bias\", \"image_model.layer1.0.bn1.running_mean\", \"image_model.layer1.0.bn1.running_var\", \"image_model.layer1.0.bn1.num_batches_tracked\", \"image_model.layer1.0.conv2.weight\", \"image_model.layer1.0.bn2.weight\", \"image_model.layer1.0.bn2.bias\", \"image_model.layer1.0.bn2.running_mean\", \"image_model.layer1.0.bn2.running_var\", \"image_model.layer1.0.bn2.num_batches_tracked\", \"image_model.layer1.0.conv3.weight\", \"image_model.layer1.0.bn3.weight\", \"image_model.layer1.0.bn3.bias\", \"image_model.layer1.0.bn3.running_mean\", \"image_model.layer1.0.bn3.running_var\", \"image_model.layer1.0.bn3.num_batches_tracked\", \"image_model.layer1.0.downsample.0.weight\", \"image_model.layer1.0.downsample.1.weight\", \"image_model.layer1.0.downsample.1.bias\", \"image_model.layer1.0.downsample.1.running_mean\", \"image_model.layer1.0.downsample.1.running_var\", \"image_model.layer1.0.downsample.1.num_batches_tracked\", \"image_model.layer1.1.conv1.weight\", \"image_model.layer1.1.bn1.weight\", \"image_model.layer1.1.bn1.bias\", \"image_model.layer1.1.bn1.running_mean\", \"image_model.layer1.1.bn1.running_var\", \"image_model.layer1.1.bn1.num_batches_tracked\", \"image_model.layer1.1.conv2.weight\", \"image_model.layer1.1.bn2.weight\", \"image_model.layer1.1.bn2.bias\", \"image_model.layer1.1.bn2.running_mean\", \"image_model.layer1.1.bn2.running_var\", \"image_model.layer1.1.bn2.num_batches_tracked\", \"image_model.layer1.1.conv3.weight\", \"image_model.layer1.1.bn3.weight\", \"image_model.layer1.1.bn3.bias\", \"image_model.layer1.1.bn3.running_mean\", \"image_model.layer1.1.bn3.running_var\", \"image_model.layer1.1.bn3.num_batches_tracked\", \"image_model.layer1.2.conv1.weight\", \"image_model.layer1.2.bn1.weight\", \"image_model.layer1.2.bn1.bias\", \"image_model.layer1.2.bn1.running_mean\", \"image_model.layer1.2.bn1.running_var\", \"image_model.layer1.2.bn1.num_batches_tracked\", \"image_model.layer1.2.conv2.weight\", \"image_model.layer1.2.bn2.weight\", \"image_model.layer1.2.bn2.bias\", \"image_model.layer1.2.bn2.running_mean\", \"image_model.layer1.2.bn2.running_var\", \"image_model.layer1.2.bn2.num_batches_tracked\", \"image_model.layer1.2.conv3.weight\", \"image_model.layer1.2.bn3.weight\", \"image_model.layer1.2.bn3.bias\", \"image_model.layer1.2.bn3.running_mean\", \"image_model.layer1.2.bn3.running_var\", \"image_model.layer1.2.bn3.num_batches_tracked\", \"image_model.layer2.0.conv1.weight\", \"image_model.layer2.0.bn1.weight\", \"image_model.layer2.0.bn1.bias\", \"image_model.layer2.0.bn1.running_mean\", \"image_model.layer2.0.bn1.running_var\", \"image_model.layer2.0.bn1.num_batches_tracked\", \"image_model.layer2.0.conv2.weight\", \"image_model.layer2.0.bn2.weight\", \"image_model.layer2.0.bn2.bias\", \"image_model.layer2.0.bn2.running_mean\", \"image_model.layer2.0.bn2.running_var\", \"image_model.layer2.0.bn2.num_batches_tracked\", \"image_model.layer2.0.conv3.weight\", \"image_model.layer2.0.bn3.weight\", \"image_model.layer2.0.bn3.bias\", \"image_model.layer2.0.bn3.running_mean\", \"image_model.layer2.0.bn3.running_var\", \"image_model.layer2.0.bn3.num_batches_tracked\", \"image_model.layer2.0.downsample.0.weight\", \"image_model.layer2.0.downsample.1.weight\", \"image_model.layer2.0.downsample.1.bias\", \"image_model.layer2.0.downsample.1.running_mean\", \"image_model.layer2.0.downsample.1.running_var\", \"image_model.layer2.0.downsample.1.num_batches_tracked\", \"image_model.layer2.1.conv1.weight\", \"image_model.layer2.1.bn1.weight\", \"image_model.layer2.1.bn1.bias\", \"image_model.layer2.1.bn1.running_mean\", \"image_model.layer2.1.bn1.running_var\", \"image_model.layer2.1.bn1.num_batches_tracked\", \"image_model.layer2.1.conv2.weight\", \"image_model.layer2.1.bn2.weight\", \"image_model.layer2.1.bn2.bias\", \"image_model.layer2.1.bn2.running_mean\", \"image_model.layer2.1.bn2.running_var\", \"image_model.layer2.1.bn2.num_batches_tracked\", \"image_model.layer2.1.conv3.weight\", \"image_model.layer2.1.bn3.weight\", \"image_model.layer2.1.bn3.bias\", \"image_model.layer2.1.bn3.running_mean\", \"image_model.layer2.1.bn3.running_var\", \"image_model.layer2.1.bn3.num_batches_tracked\", \"image_model.layer2.2.conv1.weight\", \"image_model.layer2.2.bn1.weight\", \"image_model.layer2.2.bn1.bias\", \"image_model.layer2.2.bn1.running_mean\", \"image_model.layer2.2.bn1.running_var\", \"image_model.layer2.2.bn1.num_batches_tracked\", \"image_model.layer2.2.conv2.weight\", \"image_model.layer2.2.bn2.weight\", \"image_model.layer2.2.bn2.bias\", \"image_model.layer2.2.bn2.running_mean\", \"image_model.layer2.2.bn2.running_var\", \"image_model.layer2.2.bn2.num_batches_tracked\", \"image_model.layer2.2.conv3.weight\", \"image_model.layer2.2.bn3.weight\", \"image_model.layer2.2.bn3.bias\", \"image_model.layer2.2.bn3.running_mean\", \"image_model.layer2.2.bn3.running_var\", \"image_model.layer2.2.bn3.num_batches_tracked\", \"image_model.layer2.3.conv1.weight\", \"image_model.layer2.3.bn1.weight\", \"image_model.layer2.3.bn1.bias\", \"image_model.layer2.3.bn1.running_mean\", \"image_model.layer2.3.bn1.running_var\", \"image_model.layer2.3.bn1.num_batches_tracked\", \"image_model.layer2.3.conv2.weight\", \"image_model.layer2.3.bn2.weight\", \"image_model.layer2.3.bn2.bias\", \"image_model.layer2.3.bn2.running_mean\", \"image_model.layer2.3.bn2.running_var\", \"image_model.layer2.3.bn2.num_batches_tracked\", \"image_model.layer2.3.conv3.weight\", \"image_model.layer2.3.bn3.weight\", \"image_model.layer2.3.bn3.bias\", \"image_model.layer2.3.bn3.running_mean\", \"image_model.layer2.3.bn3.running_var\", \"image_model.layer2.3.bn3.num_batches_tracked\", \"image_model.layer3.0.conv1.weight\", \"image_model.layer3.0.bn1.weight\", \"image_model.layer3.0.bn1.bias\", \"image_model.layer3.0.bn1.running_mean\", \"image_model.layer3.0.bn1.running_var\", \"image_model.layer3.0.bn1.num_batches_tracked\", \"image_model.layer3.0.conv2.weight\", \"image_model.layer3.0.bn2.weight\", \"image_model.layer3.0.bn2.bias\", \"image_model.layer3.0.bn2.running_mean\", \"image_model.layer3.0.bn2.running_var\", \"image_model.layer3.0.bn2.num_batches_tracked\", \"image_model.layer3.0.conv3.weight\", \"image_model.layer3.0.bn3.weight\", \"image_model.layer3.0.bn3.bias\", \"image_model.layer3.0.bn3.running_mean\", \"image_model.layer3.0.bn3.running_var\", \"image_model.layer3.0.bn3.num_batches_tracked\", \"image_model.layer3.0.downsample.0.weight\", \"image_model.layer3.0.downsample.1.weight\", \"image_model.layer3.0.downsample.1.bias\", \"image_model.layer3.0.downsample.1.running_mean\", \"image_model.layer3.0.downsample.1.running_var\", \"image_model.layer3.0.downsample.1.num_batches_tracked\", \"image_model.layer3.1.conv1.weight\", \"image_model.layer3.1.bn1.weight\", \"image_model.layer3.1.bn1.bias\", \"image_model.layer3.1.bn1.running_mean\", \"image_model.layer3.1.bn1.running_var\", \"image_model.layer3.1.bn1.num_batches_tracked\", \"image_model.layer3.1.conv2.weight\", \"image_model.layer3.1.bn2.weight\", \"image_model.layer3.1.bn2.bias\", \"image_model.layer3.1.bn2.running_mean\", \"image_model.layer3.1.bn2.running_var\", \"image_model.layer3.1.bn2.num_batches_tracked\", \"image_model.layer3.1.conv3.weight\", \"image_model.layer3.1.bn3.weight\", \"image_model.layer3.1.bn3.bias\", \"image_model.layer3.1.bn3.running_mean\", \"image_model.layer3.1.bn3.running_var\", \"image_model.layer3.1.bn3.num_batches_tracked\", \"image_model.layer3.2.conv1.weight\", \"image_model.layer3.2.bn1.weight\", \"image_model.layer3.2.bn1.bias\", \"image_model.layer3.2.bn1.running_mean\", \"image_model.layer3.2.bn1.running_var\", \"image_model.layer3.2.bn1.num_batches_tracked\", \"image_model.layer3.2.conv2.weight\", \"image_model.layer3.2.bn2.weight\", \"image_model.layer3.2.bn2.bias\", \"image_model.layer3.2.bn2.running_mean\", \"image_model.layer3.2.bn2.running_var\", \"image_model.layer3.2.bn2.num_batches_tracked\", \"image_model.layer3.2.conv3.weight\", \"image_model.layer3.2.bn3.weight\", \"image_model.layer3.2.bn3.bias\", \"image_model.layer3.2.bn3.running_mean\", \"image_model.layer3.2.bn3.running_var\", \"image_model.layer3.2.bn3.num_batches_tracked\", \"image_model.layer3.3.conv1.weight\", \"image_model.layer3.3.bn1.weight\", \"image_model.layer3.3.bn1.bias\", \"image_model.layer3.3.bn1.running_mean\", \"image_model.layer3.3.bn1.running_var\", \"image_model.layer3.3.bn1.num_batches_tracked\", \"image_model.layer3.3.conv2.weight\", \"image_model.layer3.3.bn2.weight\", \"image_model.layer3.3.bn2.bias\", \"image_model.layer3.3.bn2.running_mean\", \"image_model.layer3.3.bn2.running_var\", \"image_model.layer3.3.bn2.num_batches_tracked\", \"image_model.layer3.3.conv3.weight\", \"image_model.layer3.3.bn3.weight\", \"image_model.layer3.3.bn3.bias\", \"image_model.layer3.3.bn3.running_mean\", \"image_model.layer3.3.bn3.running_var\", \"image_model.layer3.3.bn3.num_batches_tracked\", \"image_model.layer3.4.conv1.weight\", \"image_model.layer3.4.bn1.weight\", \"image_model.layer3.4.bn1.bias\", \"image_model.layer3.4.bn1.running_mean\", \"image_model.layer3.4.bn1.running_var\", \"image_model.layer3.4.bn1.num_batches_tracked\", \"image_model.layer3.4.conv2.weight\", \"image_model.layer3.4.bn2.weight\", \"image_model.layer3.4.bn2.bias\", \"image_model.layer3.4.bn2.running_mean\", \"image_model.layer3.4.bn2.running_var\", \"image_model.layer3.4.bn2.num_batches_tracked\", \"image_model.layer3.4.conv3.weight\", \"image_model.layer3.4.bn3.weight\", \"image_model.layer3.4.bn3.bias\", \"image_model.layer3.4.bn3.running_mean\", \"image_model.layer3.4.bn3.running_var\", \"image_model.layer3.4.bn3.num_batches_tracked\", \"image_model.layer3.5.conv1.weight\", \"image_model.layer3.5.bn1.weight\", \"image_model.layer3.5.bn1.bias\", \"image_model.layer3.5.bn1.running_mean\", \"image_model.layer3.5.bn1.running_var\", \"image_model.layer3.5.bn1.num_batches_tracked\", \"image_model.layer3.5.conv2.weight\", \"image_model.layer3.5.bn2.weight\", \"image_model.layer3.5.bn2.bias\", \"image_model.layer3.5.bn2.running_mean\", \"image_model.layer3.5.bn2.running_var\", \"image_model.layer3.5.bn2.num_batches_tracked\", \"image_model.layer3.5.conv3.weight\", \"image_model.layer3.5.bn3.weight\", \"image_model.layer3.5.bn3.bias\", \"image_model.layer3.5.bn3.running_mean\", \"image_model.layer3.5.bn3.running_var\", \"image_model.layer3.5.bn3.num_batches_tracked\", \"image_model.layer4.0.conv1.weight\", \"image_model.layer4.0.bn1.weight\", \"image_model.layer4.0.bn1.bias\", \"image_model.layer4.0.bn1.running_mean\", \"image_model.layer4.0.bn1.running_var\", \"image_model.layer4.0.bn1.num_batches_tracked\", \"image_model.layer4.0.conv2.weight\", \"image_model.layer4.0.bn2.weight\", \"image_model.layer4.0.bn2.bias\", \"image_model.layer4.0.bn2.running_mean\", \"image_model.layer4.0.bn2.running_var\", \"image_model.layer4.0.bn2.num_batches_tracked\", \"image_model.layer4.0.conv3.weight\", \"image_model.layer4.0.bn3.weight\", \"image_model.layer4.0.bn3.bias\", \"image_model.layer4.0.bn3.running_mean\", \"image_model.layer4.0.bn3.running_var\", \"image_model.layer4.0.bn3.num_batches_tracked\", \"image_model.layer4.0.downsample.0.weight\", \"image_model.layer4.0.downsample.1.weight\", \"image_model.layer4.0.downsample.1.bias\", \"image_model.layer4.0.downsample.1.running_mean\", \"image_model.layer4.0.downsample.1.running_var\", \"image_model.layer4.0.downsample.1.num_batches_tracked\", \"image_model.layer4.1.conv1.weight\", \"image_model.layer4.1.bn1.weight\", \"image_model.layer4.1.bn1.bias\", \"image_model.layer4.1.bn1.running_mean\", \"image_model.layer4.1.bn1.running_var\", \"image_model.layer4.1.bn1.num_batches_tracked\", \"image_model.layer4.1.conv2.weight\", \"image_model.layer4.1.bn2.weight\", \"image_model.layer4.1.bn2.bias\", \"image_model.layer4.1.bn2.running_mean\", \"image_model.layer4.1.bn2.running_var\", \"image_model.layer4.1.bn2.num_batches_tracked\", \"image_model.layer4.1.conv3.weight\", \"image_model.layer4.1.bn3.weight\", \"image_model.layer4.1.bn3.bias\", \"image_model.layer4.1.bn3.running_mean\", \"image_model.layer4.1.bn3.running_var\", \"image_model.layer4.1.bn3.num_batches_tracked\", \"image_model.layer4.2.conv1.weight\", \"image_model.layer4.2.bn1.weight\", \"image_model.layer4.2.bn1.bias\", \"image_model.layer4.2.bn1.running_mean\", \"image_model.layer4.2.bn1.running_var\", \"image_model.layer4.2.bn1.num_batches_tracked\", \"image_model.layer4.2.conv2.weight\", \"image_model.layer4.2.bn2.weight\", \"image_model.layer4.2.bn2.bias\", \"image_model.layer4.2.bn2.running_mean\", \"image_model.layer4.2.bn2.running_var\", \"image_model.layer4.2.bn2.num_batches_tracked\", \"image_model.layer4.2.conv3.weight\", \"image_model.layer4.2.bn3.weight\", \"image_model.layer4.2.bn3.bias\", \"image_model.layer4.2.bn3.running_mean\", \"image_model.layer4.2.bn3.running_var\", \"image_model.layer4.2.bn3.num_batches_tracked\", \"image_projection.3.weight\", \"image_projection.3.bias\", \"text_projection.3.weight\", \"text_projection.3.bias\", \"fusion_head.6.weight\", \"fusion_head.6.bias\", \"fusion_head.9.weight\", \"fusion_head.9.bias\". \n\tsize mismatch for image_projection.0.weight: copying a param with shape torch.Size([512, 2048]) from checkpoint, the shape in current model is torch.Size([64, 1280]).\n\tsize mismatch for image_projection.0.bias: copying a param with shape torch.Size([512]) from checkpoint, the shape in current model is torch.Size([64]).\n\tsize mismatch for text_projection.0.weight: copying a param with shape torch.Size([512, 768]) from checkpoint, the shape in current model is torch.Size([64, 768]).\n\tsize mismatch for text_projection.0.bias: copying a param with shape torch.Size([512]) from checkpoint, the shape in current model is torch.Size([64]).\n\tsize mismatch for fusion_head.0.weight: copying a param with shape torch.Size([256, 257]) from checkpoint, the shape in current model is torch.Size([64, 129]).\n\tsize mismatch for fusion_head.0.bias: copying a param with shape torch.Size([256]) from checkpoint, the shape in current model is torch.Size([64]).\n\tsize mismatch for fusion_head.3.weight: copying a param with shape torch.Size([128, 256]) from checkpoint, the shape in current model is torch.Size([32, 64]).\n\tsize mismatch for fusion_head.3.bias: copying a param with shape torch.Size([128]) from checkpoint, the shape in current model is torch.Size([32]).",
     "output_type": "error",
     "traceback": [
      "\u001b[31m---------------------------------------------------------------------------\u001b[39m",
      "\u001b[31mRuntimeError\u001b[39m                              Traceback (most recent call last)",
      "\u001b[36mCell\u001b[39m\u001b[36m \u001b[39m\u001b[32mIn[58]\u001b[39m\u001b[32m, line 4\u001b[39m\n\u001b[32m      2\u001b[39m \u001b[38;5;28mprint\u001b[39m(\u001b[33m\"\u001b[39m\u001b[33mLoading best model...\u001b[39m\u001b[33m\"\u001b[39m)\n\u001b[32m      3\u001b[39m checkpoint = torch.load(config.MODEL_SAVE_PATH, weights_only=\u001b[38;5;28;01mFalse\u001b[39;00m)\n\u001b[32m----> \u001b[39m\u001b[32m4\u001b[39m \u001b[43mmodel\u001b[49m\u001b[43m.\u001b[49m\u001b[43mload_state_dict\u001b[49m\u001b[43m(\u001b[49m\u001b[43mcheckpoint\u001b[49m\u001b[43m[\u001b[49m\u001b[33;43m'\u001b[39;49m\u001b[33;43mmodel_state_dict\u001b[39;49m\u001b[33;43m'\u001b[39;49m\u001b[43m]\u001b[49m\u001b[43m)\u001b[49m\n\u001b[32m      5\u001b[39m \u001b[38;5;28mprint\u001b[39m(\u001b[33mf\u001b[39m\u001b[33m\"\u001b[39m\u001b[33mBest model loaded from epoch \u001b[39m\u001b[38;5;132;01m{\u001b[39;00mcheckpoint[\u001b[33m'\u001b[39m\u001b[33mepoch\u001b[39m\u001b[33m'\u001b[39m]\u001b[38;5;250m \u001b[39m+\u001b[38;5;250m \u001b[39m\u001b[32m1\u001b[39m\u001b[38;5;132;01m}\u001b[39;00m\u001b[33m\"\u001b[39m)\n\u001b[32m      6\u001b[39m \u001b[38;5;28mprint\u001b[39m(\u001b[33mf\u001b[39m\u001b[33m\"\u001b[39m\u001b[33mBest validation SMAPE: \u001b[39m\u001b[38;5;132;01m{\u001b[39;00mcheckpoint[\u001b[33m'\u001b[39m\u001b[33mval_smape\u001b[39m\u001b[33m'\u001b[39m]\u001b[38;5;132;01m:\u001b[39;00m\u001b[33m.4f\u001b[39m\u001b[38;5;132;01m}\u001b[39;00m\u001b[33m%\u001b[39m\u001b[33m\"\u001b[39m)\n",
      "\u001b[36mFile \u001b[39m\u001b[32m~/github-repos/amazon-ml-challenge/venv/lib/python3.13/site-packages/torch/nn/modules/module.py:2624\u001b[39m, in \u001b[36mModule.load_state_dict\u001b[39m\u001b[34m(self, state_dict, strict, assign)\u001b[39m\n\u001b[32m   2616\u001b[39m         error_msgs.insert(\n\u001b[32m   2617\u001b[39m             \u001b[32m0\u001b[39m,\n\u001b[32m   2618\u001b[39m             \u001b[33m\"\u001b[39m\u001b[33mMissing key(s) in state_dict: \u001b[39m\u001b[38;5;132;01m{}\u001b[39;00m\u001b[33m. \u001b[39m\u001b[33m\"\u001b[39m.format(\n\u001b[32m   2619\u001b[39m                 \u001b[33m\"\u001b[39m\u001b[33m, \u001b[39m\u001b[33m\"\u001b[39m.join(\u001b[33mf\u001b[39m\u001b[33m'\u001b[39m\u001b[33m\"\u001b[39m\u001b[38;5;132;01m{\u001b[39;00mk\u001b[38;5;132;01m}\u001b[39;00m\u001b[33m\"\u001b[39m\u001b[33m'\u001b[39m \u001b[38;5;28;01mfor\u001b[39;00m k \u001b[38;5;129;01min\u001b[39;00m missing_keys)\n\u001b[32m   2620\u001b[39m             ),\n\u001b[32m   2621\u001b[39m         )\n\u001b[32m   2623\u001b[39m \u001b[38;5;28;01mif\u001b[39;00m \u001b[38;5;28mlen\u001b[39m(error_msgs) > \u001b[32m0\u001b[39m:\n\u001b[32m-> \u001b[39m\u001b[32m2624\u001b[39m     \u001b[38;5;28;01mraise\u001b[39;00m \u001b[38;5;167;01mRuntimeError\u001b[39;00m(\n\u001b[32m   2625\u001b[39m         \u001b[33m\"\u001b[39m\u001b[33mError(s) in loading state_dict for \u001b[39m\u001b[38;5;132;01m{}\u001b[39;00m\u001b[33m:\u001b[39m\u001b[38;5;130;01m\\n\u001b[39;00m\u001b[38;5;130;01m\\t\u001b[39;00m\u001b[38;5;132;01m{}\u001b[39;00m\u001b[33m\"\u001b[39m.format(\n\u001b[32m   2626\u001b[39m             \u001b[38;5;28mself\u001b[39m.\u001b[34m__class__\u001b[39m.\u001b[34m__name__\u001b[39m, \u001b[33m\"\u001b[39m\u001b[38;5;130;01m\\n\u001b[39;00m\u001b[38;5;130;01m\\t\u001b[39;00m\u001b[33m\"\u001b[39m.join(error_msgs)\n\u001b[32m   2627\u001b[39m         )\n\u001b[32m   2628\u001b[39m     )\n\u001b[32m   2629\u001b[39m \u001b[38;5;28;01mreturn\u001b[39;00m _IncompatibleKeys(missing_keys, unexpected_keys)\n",
      "\u001b[31mRuntimeError\u001b[39m: Error(s) in loading state_dict for MultimodalPricePredictor:\n\tMissing key(s) in state_dict: \"image_model.features.0.0.weight\", \"image_model.features.0.1.weight\", \"image_model.features.0.1.bias\", \"image_model.features.0.1.running_mean\", \"image_model.features.0.1.running_var\", \"image_model.features.1.conv.0.0.weight\", \"image_model.features.1.conv.0.1.weight\", \"image_model.features.1.conv.0.1.bias\", \"image_model.features.1.conv.0.1.running_mean\", \"image_model.features.1.conv.0.1.running_var\", \"image_model.features.1.conv.1.weight\", \"image_model.features.1.conv.2.weight\", \"image_model.features.1.conv.2.bias\", \"image_model.features.1.conv.2.running_mean\", \"image_model.features.1.conv.2.running_var\", \"image_model.features.2.conv.0.0.weight\", \"image_model.features.2.conv.0.1.weight\", \"image_model.features.2.conv.0.1.bias\", \"image_model.features.2.conv.0.1.running_mean\", \"image_model.features.2.conv.0.1.running_var\", \"image_model.features.2.conv.1.0.weight\", \"image_model.features.2.conv.1.1.weight\", \"image_model.features.2.conv.1.1.bias\", \"image_model.features.2.conv.1.1.running_mean\", \"image_model.features.2.conv.1.1.running_var\", \"image_model.features.2.conv.2.weight\", \"image_model.features.2.conv.3.weight\", \"image_model.features.2.conv.3.bias\", \"image_model.features.2.conv.3.running_mean\", \"image_model.features.2.conv.3.running_var\", \"image_model.features.3.conv.0.0.weight\", \"image_model.features.3.conv.0.1.weight\", \"image_model.features.3.conv.0.1.bias\", \"image_model.features.3.conv.0.1.running_mean\", \"image_model.features.3.conv.0.1.running_var\", \"image_model.features.3.conv.1.0.weight\", \"image_model.features.3.conv.1.1.weight\", \"image_model.features.3.conv.1.1.bias\", \"image_model.features.3.conv.1.1.running_mean\", \"image_model.features.3.conv.1.1.running_var\", \"image_model.features.3.conv.2.weight\", \"image_model.features.3.conv.3.weight\", \"image_model.features.3.conv.3.bias\", \"image_model.features.3.conv.3.running_mean\", \"image_model.features.3.conv.3.running_var\", \"image_model.features.4.conv.0.0.weight\", \"image_model.features.4.conv.0.1.weight\", \"image_model.features.4.conv.0.1.bias\", \"image_model.features.4.conv.0.1.running_mean\", \"image_model.features.4.conv.0.1.running_var\", \"image_model.features.4.conv.1.0.weight\", \"image_model.features.4.conv.1.1.weight\", \"image_model.features.4.conv.1.1.bias\", \"image_model.features.4.conv.1.1.running_mean\", \"image_model.features.4.conv.1.1.running_var\", \"image_model.features.4.conv.2.weight\", \"image_model.features.4.conv.3.weight\", \"image_model.features.4.conv.3.bias\", \"image_model.features.4.conv.3.running_mean\", \"image_model.features.4.conv.3.running_var\", \"image_model.features.5.conv.0.0.weight\", \"image_model.features.5.conv.0.1.weight\", \"image_model.features.5.conv.0.1.bias\", \"image_model.features.5.conv.0.1.running_mean\", \"image_model.features.5.conv.0.1.running_var\", \"image_model.features.5.conv.1.0.weight\", \"image_model.features.5.conv.1.1.weight\", \"image_model.features.5.conv.1.1.bias\", \"image_model.features.5.conv.1.1.running_mean\", \"image_model.features.5.conv.1.1.running_var\", \"image_model.features.5.conv.2.weight\", \"image_model.features.5.conv.3.weight\", \"image_model.features.5.conv.3.bias\", \"image_model.features.5.conv.3.running_mean\", \"image_model.features.5.conv.3.running_var\", \"image_model.features.6.conv.0.0.weight\", \"image_model.features.6.conv.0.1.weight\", \"image_model.features.6.conv.0.1.bias\", \"image_model.features.6.conv.0.1.running_mean\", \"image_model.features.6.conv.0.1.running_var\", \"image_model.features.6.conv.1.0.weight\", \"image_model.features.6.conv.1.1.weight\", \"image_model.features.6.conv.1.1.bias\", \"image_model.features.6.conv.1.1.running_mean\", \"image_model.features.6.conv.1.1.running_var\", \"image_model.features.6.conv.2.weight\", \"image_model.features.6.conv.3.weight\", \"image_model.features.6.conv.3.bias\", \"image_model.features.6.conv.3.running_mean\", \"image_model.features.6.conv.3.running_var\", \"image_model.features.7.conv.0.0.weight\", \"image_model.features.7.conv.0.1.weight\", \"image_model.features.7.conv.0.1.bias\", \"image_model.features.7.conv.0.1.running_mean\", \"image_model.features.7.conv.0.1.running_var\", \"image_model.features.7.conv.1.0.weight\", \"image_model.features.7.conv.1.1.weight\", \"image_model.features.7.conv.1.1.bias\", \"image_model.features.7.conv.1.1.running_mean\", \"image_model.features.7.conv.1.1.running_var\", \"image_model.features.7.conv.2.weight\", \"image_model.features.7.conv.3.weight\", \"image_model.features.7.conv.3.bias\", \"image_model.features.7.conv.3.running_mean\", \"image_model.features.7.conv.3.running_var\", \"image_model.features.8.conv.0.0.weight\", \"image_model.features.8.conv.0.1.weight\", \"image_model.features.8.conv.0.1.bias\", \"image_model.features.8.conv.0.1.running_mean\", \"image_model.features.8.conv.0.1.running_var\", \"image_model.features.8.conv.1.0.weight\", \"image_model.features.8.conv.1.1.weight\", \"image_model.features.8.conv.1.1.bias\", \"image_model.features.8.conv.1.1.running_mean\", \"image_model.features.8.conv.1.1.running_var\", \"image_model.features.8.conv.2.weight\", \"image_model.features.8.conv.3.weight\", \"image_model.features.8.conv.3.bias\", \"image_model.features.8.conv.3.running_mean\", \"image_model.features.8.conv.3.running_var\", \"image_model.features.9.conv.0.0.weight\", \"image_model.features.9.conv.0.1.weight\", \"image_model.features.9.conv.0.1.bias\", \"image_model.features.9.conv.0.1.running_mean\", \"image_model.features.9.conv.0.1.running_var\", \"image_model.features.9.conv.1.0.weight\", \"image_model.features.9.conv.1.1.weight\", \"image_model.features.9.conv.1.1.bias\", \"image_model.features.9.conv.1.1.running_mean\", \"image_model.features.9.conv.1.1.running_var\", \"image_model.features.9.conv.2.weight\", \"image_model.features.9.conv.3.weight\", \"image_model.features.9.conv.3.bias\", \"image_model.features.9.conv.3.running_mean\", \"image_model.features.9.conv.3.running_var\", \"image_model.features.10.conv.0.0.weight\", \"image_model.features.10.conv.0.1.weight\", \"image_model.features.10.conv.0.1.bias\", \"image_model.features.10.conv.0.1.running_mean\", \"image_model.features.10.conv.0.1.running_var\", \"image_model.features.10.conv.1.0.weight\", \"image_model.features.10.conv.1.1.weight\", \"image_model.features.10.conv.1.1.bias\", \"image_model.features.10.conv.1.1.running_mean\", \"image_model.features.10.conv.1.1.running_var\", \"image_model.features.10.conv.2.weight\", \"image_model.features.10.conv.3.weight\", \"image_model.features.10.conv.3.bias\", \"image_model.features.10.conv.3.running_mean\", \"image_model.features.10.conv.3.running_var\", \"image_model.features.11.conv.0.0.weight\", \"image_model.features.11.conv.0.1.weight\", \"image_model.features.11.conv.0.1.bias\", \"image_model.features.11.conv.0.1.running_mean\", \"image_model.features.11.conv.0.1.running_var\", \"image_model.features.11.conv.1.0.weight\", \"image_model.features.11.conv.1.1.weight\", \"image_model.features.11.conv.1.1.bias\", \"image_model.features.11.conv.1.1.running_mean\", \"image_model.features.11.conv.1.1.running_var\", \"image_model.features.11.conv.2.weight\", \"image_model.features.11.conv.3.weight\", \"image_model.features.11.conv.3.bias\", \"image_model.features.11.conv.3.running_mean\", \"image_model.features.11.conv.3.running_var\", \"image_model.features.12.conv.0.0.weight\", \"image_model.features.12.conv.0.1.weight\", \"image_model.features.12.conv.0.1.bias\", \"image_model.features.12.conv.0.1.running_mean\", \"image_model.features.12.conv.0.1.running_var\", \"image_model.features.12.conv.1.0.weight\", \"image_model.features.12.conv.1.1.weight\", \"image_model.features.12.conv.1.1.bias\", \"image_model.features.12.conv.1.1.running_mean\", \"image_model.features.12.conv.1.1.running_var\", \"image_model.features.12.conv.2.weight\", \"image_model.features.12.conv.3.weight\", \"image_model.features.12.conv.3.bias\", \"image_model.features.12.conv.3.running_mean\", \"image_model.features.12.conv.3.running_var\", \"image_model.features.13.conv.0.0.weight\", \"image_model.features.13.conv.0.1.weight\", \"image_model.features.13.conv.0.1.bias\", \"image_model.features.13.conv.0.1.running_mean\", \"image_model.features.13.conv.0.1.running_var\", \"image_model.features.13.conv.1.0.weight\", \"image_model.features.13.conv.1.1.weight\", \"image_model.features.13.conv.1.1.bias\", \"image_model.features.13.conv.1.1.running_mean\", \"image_model.features.13.conv.1.1.running_var\", \"image_model.features.13.conv.2.weight\", \"image_model.features.13.conv.3.weight\", \"image_model.features.13.conv.3.bias\", \"image_model.features.13.conv.3.running_mean\", \"image_model.features.13.conv.3.running_var\", \"image_model.features.14.conv.0.0.weight\", \"image_model.features.14.conv.0.1.weight\", \"image_model.features.14.conv.0.1.bias\", \"image_model.features.14.conv.0.1.running_mean\", \"image_model.features.14.conv.0.1.running_var\", \"image_model.features.14.conv.1.0.weight\", \"image_model.features.14.conv.1.1.weight\", \"image_model.features.14.conv.1.1.bias\", \"image_model.features.14.conv.1.1.running_mean\", \"image_model.features.14.conv.1.1.running_var\", \"image_model.features.14.conv.2.weight\", \"image_model.features.14.conv.3.weight\", \"image_model.features.14.conv.3.bias\", \"image_model.features.14.conv.3.running_mean\", \"image_model.features.14.conv.3.running_var\", \"image_model.features.15.conv.0.0.weight\", \"image_model.features.15.conv.0.1.weight\", \"image_model.features.15.conv.0.1.bias\", \"image_model.features.15.conv.0.1.running_mean\", \"image_model.features.15.conv.0.1.running_var\", \"image_model.features.15.conv.1.0.weight\", \"image_model.features.15.conv.1.1.weight\", \"image_model.features.15.conv.1.1.bias\", \"image_model.features.15.conv.1.1.running_mean\", \"image_model.features.15.conv.1.1.running_var\", \"image_model.features.15.conv.2.weight\", \"image_model.features.15.conv.3.weight\", \"image_model.features.15.conv.3.bias\", \"image_model.features.15.conv.3.running_mean\", \"image_model.features.15.conv.3.running_var\", \"image_model.features.16.conv.0.0.weight\", \"image_model.features.16.conv.0.1.weight\", \"image_model.features.16.conv.0.1.bias\", \"image_model.features.16.conv.0.1.running_mean\", \"image_model.features.16.conv.0.1.running_var\", \"image_model.features.16.conv.1.0.weight\", \"image_model.features.16.conv.1.1.weight\", \"image_model.features.16.conv.1.1.bias\", \"image_model.features.16.conv.1.1.running_mean\", \"image_model.features.16.conv.1.1.running_var\", \"image_model.features.16.conv.2.weight\", \"image_model.features.16.conv.3.weight\", \"image_model.features.16.conv.3.bias\", \"image_model.features.16.conv.3.running_mean\", \"image_model.features.16.conv.3.running_var\", \"image_model.features.17.conv.0.0.weight\", \"image_model.features.17.conv.0.1.weight\", \"image_model.features.17.conv.0.1.bias\", \"image_model.features.17.conv.0.1.running_mean\", \"image_model.features.17.conv.0.1.running_var\", \"image_model.features.17.conv.1.0.weight\", \"image_model.features.17.conv.1.1.weight\", \"image_model.features.17.conv.1.1.bias\", \"image_model.features.17.conv.1.1.running_mean\", \"image_model.features.17.conv.1.1.running_var\", \"image_model.features.17.conv.2.weight\", \"image_model.features.17.conv.3.weight\", \"image_model.features.17.conv.3.bias\", \"image_model.features.17.conv.3.running_mean\", \"image_model.features.17.conv.3.running_var\", \"image_model.features.18.0.weight\", \"image_model.features.18.1.weight\", \"image_model.features.18.1.bias\", \"image_model.features.18.1.running_mean\", \"image_model.features.18.1.running_var\", \"fusion_head.5.weight\", \"fusion_head.5.bias\". \n\tUnexpected key(s) in state_dict: \"image_model.conv1.weight\", \"image_model.bn1.weight\", \"image_model.bn1.bias\", \"image_model.bn1.running_mean\", \"image_model.bn1.running_var\", \"image_model.bn1.num_batches_tracked\", \"image_model.layer1.0.conv1.weight\", \"image_model.layer1.0.bn1.weight\", \"image_model.layer1.0.bn1.bias\", \"image_model.layer1.0.bn1.running_mean\", \"image_model.layer1.0.bn1.running_var\", \"image_model.layer1.0.bn1.num_batches_tracked\", \"image_model.layer1.0.conv2.weight\", \"image_model.layer1.0.bn2.weight\", \"image_model.layer1.0.bn2.bias\", \"image_model.layer1.0.bn2.running_mean\", \"image_model.layer1.0.bn2.running_var\", \"image_model.layer1.0.bn2.num_batches_tracked\", \"image_model.layer1.0.conv3.weight\", \"image_model.layer1.0.bn3.weight\", \"image_model.layer1.0.bn3.bias\", \"image_model.layer1.0.bn3.running_mean\", \"image_model.layer1.0.bn3.running_var\", \"image_model.layer1.0.bn3.num_batches_tracked\", \"image_model.layer1.0.downsample.0.weight\", \"image_model.layer1.0.downsample.1.weight\", \"image_model.layer1.0.downsample.1.bias\", \"image_model.layer1.0.downsample.1.running_mean\", \"image_model.layer1.0.downsample.1.running_var\", \"image_model.layer1.0.downsample.1.num_batches_tracked\", \"image_model.layer1.1.conv1.weight\", \"image_model.layer1.1.bn1.weight\", \"image_model.layer1.1.bn1.bias\", \"image_model.layer1.1.bn1.running_mean\", \"image_model.layer1.1.bn1.running_var\", \"image_model.layer1.1.bn1.num_batches_tracked\", \"image_model.layer1.1.conv2.weight\", \"image_model.layer1.1.bn2.weight\", \"image_model.layer1.1.bn2.bias\", \"image_model.layer1.1.bn2.running_mean\", \"image_model.layer1.1.bn2.running_var\", \"image_model.layer1.1.bn2.num_batches_tracked\", \"image_model.layer1.1.conv3.weight\", \"image_model.layer1.1.bn3.weight\", \"image_model.layer1.1.bn3.bias\", \"image_model.layer1.1.bn3.running_mean\", \"image_model.layer1.1.bn3.running_var\", \"image_model.layer1.1.bn3.num_batches_tracked\", \"image_model.layer1.2.conv1.weight\", \"image_model.layer1.2.bn1.weight\", \"image_model.layer1.2.bn1.bias\", \"image_model.layer1.2.bn1.running_mean\", \"image_model.layer1.2.bn1.running_var\", \"image_model.layer1.2.bn1.num_batches_tracked\", \"image_model.layer1.2.conv2.weight\", \"image_model.layer1.2.bn2.weight\", \"image_model.layer1.2.bn2.bias\", \"image_model.layer1.2.bn2.running_mean\", \"image_model.layer1.2.bn2.running_var\", \"image_model.layer1.2.bn2.num_batches_tracked\", \"image_model.layer1.2.conv3.weight\", \"image_model.layer1.2.bn3.weight\", \"image_model.layer1.2.bn3.bias\", \"image_model.layer1.2.bn3.running_mean\", \"image_model.layer1.2.bn3.running_var\", \"image_model.layer1.2.bn3.num_batches_tracked\", \"image_model.layer2.0.conv1.weight\", \"image_model.layer2.0.bn1.weight\", \"image_model.layer2.0.bn1.bias\", \"image_model.layer2.0.bn1.running_mean\", \"image_model.layer2.0.bn1.running_var\", \"image_model.layer2.0.bn1.num_batches_tracked\", \"image_model.layer2.0.conv2.weight\", \"image_model.layer2.0.bn2.weight\", \"image_model.layer2.0.bn2.bias\", \"image_model.layer2.0.bn2.running_mean\", \"image_model.layer2.0.bn2.running_var\", \"image_model.layer2.0.bn2.num_batches_tracked\", \"image_model.layer2.0.conv3.weight\", \"image_model.layer2.0.bn3.weight\", \"image_model.layer2.0.bn3.bias\", \"image_model.layer2.0.bn3.running_mean\", \"image_model.layer2.0.bn3.running_var\", \"image_model.layer2.0.bn3.num_batches_tracked\", \"image_model.layer2.0.downsample.0.weight\", \"image_model.layer2.0.downsample.1.weight\", \"image_model.layer2.0.downsample.1.bias\", \"image_model.layer2.0.downsample.1.running_mean\", \"image_model.layer2.0.downsample.1.running_var\", \"image_model.layer2.0.downsample.1.num_batches_tracked\", \"image_model.layer2.1.conv1.weight\", \"image_model.layer2.1.bn1.weight\", \"image_model.layer2.1.bn1.bias\", \"image_model.layer2.1.bn1.running_mean\", \"image_model.layer2.1.bn1.running_var\", \"image_model.layer2.1.bn1.num_batches_tracked\", \"image_model.layer2.1.conv2.weight\", \"image_model.layer2.1.bn2.weight\", \"image_model.layer2.1.bn2.bias\", \"image_model.layer2.1.bn2.running_mean\", \"image_model.layer2.1.bn2.running_var\", \"image_model.layer2.1.bn2.num_batches_tracked\", \"image_model.layer2.1.conv3.weight\", \"image_model.layer2.1.bn3.weight\", \"image_model.layer2.1.bn3.bias\", \"image_model.layer2.1.bn3.running_mean\", \"image_model.layer2.1.bn3.running_var\", \"image_model.layer2.1.bn3.num_batches_tracked\", \"image_model.layer2.2.conv1.weight\", \"image_model.layer2.2.bn1.weight\", \"image_model.layer2.2.bn1.bias\", \"image_model.layer2.2.bn1.running_mean\", \"image_model.layer2.2.bn1.running_var\", \"image_model.layer2.2.bn1.num_batches_tracked\", \"image_model.layer2.2.conv2.weight\", \"image_model.layer2.2.bn2.weight\", \"image_model.layer2.2.bn2.bias\", \"image_model.layer2.2.bn2.running_mean\", \"image_model.layer2.2.bn2.running_var\", \"image_model.layer2.2.bn2.num_batches_tracked\", \"image_model.layer2.2.conv3.weight\", \"image_model.layer2.2.bn3.weight\", \"image_model.layer2.2.bn3.bias\", \"image_model.layer2.2.bn3.running_mean\", \"image_model.layer2.2.bn3.running_var\", \"image_model.layer2.2.bn3.num_batches_tracked\", \"image_model.layer2.3.conv1.weight\", \"image_model.layer2.3.bn1.weight\", \"image_model.layer2.3.bn1.bias\", \"image_model.layer2.3.bn1.running_mean\", \"image_model.layer2.3.bn1.running_var\", \"image_model.layer2.3.bn1.num_batches_tracked\", \"image_model.layer2.3.conv2.weight\", \"image_model.layer2.3.bn2.weight\", \"image_model.layer2.3.bn2.bias\", \"image_model.layer2.3.bn2.running_mean\", \"image_model.layer2.3.bn2.running_var\", \"image_model.layer2.3.bn2.num_batches_tracked\", \"image_model.layer2.3.conv3.weight\", \"image_model.layer2.3.bn3.weight\", \"image_model.layer2.3.bn3.bias\", \"image_model.layer2.3.bn3.running_mean\", \"image_model.layer2.3.bn3.running_var\", \"image_model.layer2.3.bn3.num_batches_tracked\", \"image_model.layer3.0.conv1.weight\", \"image_model.layer3.0.bn1.weight\", \"image_model.layer3.0.bn1.bias\", \"image_model.layer3.0.bn1.running_mean\", \"image_model.layer3.0.bn1.running_var\", \"image_model.layer3.0.bn1.num_batches_tracked\", \"image_model.layer3.0.conv2.weight\", \"image_model.layer3.0.bn2.weight\", \"image_model.layer3.0.bn2.bias\", \"image_model.layer3.0.bn2.running_mean\", \"image_model.layer3.0.bn2.running_var\", \"image_model.layer3.0.bn2.num_batches_tracked\", \"image_model.layer3.0.conv3.weight\", \"image_model.layer3.0.bn3.weight\", \"image_model.layer3.0.bn3.bias\", \"image_model.layer3.0.bn3.running_mean\", \"image_model.layer3.0.bn3.running_var\", \"image_model.layer3.0.bn3.num_batches_tracked\", \"image_model.layer3.0.downsample.0.weight\", \"image_model.layer3.0.downsample.1.weight\", \"image_model.layer3.0.downsample.1.bias\", \"image_model.layer3.0.downsample.1.running_mean\", \"image_model.layer3.0.downsample.1.running_var\", \"image_model.layer3.0.downsample.1.num_batches_tracked\", \"image_model.layer3.1.conv1.weight\", \"image_model.layer3.1.bn1.weight\", \"image_model.layer3.1.bn1.bias\", \"image_model.layer3.1.bn1.running_mean\", \"image_model.layer3.1.bn1.running_var\", \"image_model.layer3.1.bn1.num_batches_tracked\", \"image_model.layer3.1.conv2.weight\", \"image_model.layer3.1.bn2.weight\", \"image_model.layer3.1.bn2.bias\", \"image_model.layer3.1.bn2.running_mean\", \"image_model.layer3.1.bn2.running_var\", \"image_model.layer3.1.bn2.num_batches_tracked\", \"image_model.layer3.1.conv3.weight\", \"image_model.layer3.1.bn3.weight\", \"image_model.layer3.1.bn3.bias\", \"image_model.layer3.1.bn3.running_mean\", \"image_model.layer3.1.bn3.running_var\", \"image_model.layer3.1.bn3.num_batches_tracked\", \"image_model.layer3.2.conv1.weight\", \"image_model.layer3.2.bn1.weight\", \"image_model.layer3.2.bn1.bias\", \"image_model.layer3.2.bn1.running_mean\", \"image_model.layer3.2.bn1.running_var\", \"image_model.layer3.2.bn1.num_batches_tracked\", \"image_model.layer3.2.conv2.weight\", \"image_model.layer3.2.bn2.weight\", \"image_model.layer3.2.bn2.bias\", \"image_model.layer3.2.bn2.running_mean\", \"image_model.layer3.2.bn2.running_var\", \"image_model.layer3.2.bn2.num_batches_tracked\", \"image_model.layer3.2.conv3.weight\", \"image_model.layer3.2.bn3.weight\", \"image_model.layer3.2.bn3.bias\", \"image_model.layer3.2.bn3.running_mean\", \"image_model.layer3.2.bn3.running_var\", \"image_model.layer3.2.bn3.num_batches_tracked\", \"image_model.layer3.3.conv1.weight\", \"image_model.layer3.3.bn1.weight\", \"image_model.layer3.3.bn1.bias\", \"image_model.layer3.3.bn1.running_mean\", \"image_model.layer3.3.bn1.running_var\", \"image_model.layer3.3.bn1.num_batches_tracked\", \"image_model.layer3.3.conv2.weight\", \"image_model.layer3.3.bn2.weight\", \"image_model.layer3.3.bn2.bias\", \"image_model.layer3.3.bn2.running_mean\", \"image_model.layer3.3.bn2.running_var\", \"image_model.layer3.3.bn2.num_batches_tracked\", \"image_model.layer3.3.conv3.weight\", \"image_model.layer3.3.bn3.weight\", \"image_model.layer3.3.bn3.bias\", \"image_model.layer3.3.bn3.running_mean\", \"image_model.layer3.3.bn3.running_var\", \"image_model.layer3.3.bn3.num_batches_tracked\", \"image_model.layer3.4.conv1.weight\", \"image_model.layer3.4.bn1.weight\", \"image_model.layer3.4.bn1.bias\", \"image_model.layer3.4.bn1.running_mean\", \"image_model.layer3.4.bn1.running_var\", \"image_model.layer3.4.bn1.num_batches_tracked\", \"image_model.layer3.4.conv2.weight\", \"image_model.layer3.4.bn2.weight\", \"image_model.layer3.4.bn2.bias\", \"image_model.layer3.4.bn2.running_mean\", \"image_model.layer3.4.bn2.running_var\", \"image_model.layer3.4.bn2.num_batches_tracked\", \"image_model.layer3.4.conv3.weight\", \"image_model.layer3.4.bn3.weight\", \"image_model.layer3.4.bn3.bias\", \"image_model.layer3.4.bn3.running_mean\", \"image_model.layer3.4.bn3.running_var\", \"image_model.layer3.4.bn3.num_batches_tracked\", \"image_model.layer3.5.conv1.weight\", \"image_model.layer3.5.bn1.weight\", \"image_model.layer3.5.bn1.bias\", \"image_model.layer3.5.bn1.running_mean\", \"image_model.layer3.5.bn1.running_var\", \"image_model.layer3.5.bn1.num_batches_tracked\", \"image_model.layer3.5.conv2.weight\", \"image_model.layer3.5.bn2.weight\", \"image_model.layer3.5.bn2.bias\", \"image_model.layer3.5.bn2.running_mean\", \"image_model.layer3.5.bn2.running_var\", \"image_model.layer3.5.bn2.num_batches_tracked\", \"image_model.layer3.5.conv3.weight\", \"image_model.layer3.5.bn3.weight\", \"image_model.layer3.5.bn3.bias\", \"image_model.layer3.5.bn3.running_mean\", \"image_model.layer3.5.bn3.running_var\", \"image_model.layer3.5.bn3.num_batches_tracked\", \"image_model.layer4.0.conv1.weight\", \"image_model.layer4.0.bn1.weight\", \"image_model.layer4.0.bn1.bias\", \"image_model.layer4.0.bn1.running_mean\", \"image_model.layer4.0.bn1.running_var\", \"image_model.layer4.0.bn1.num_batches_tracked\", \"image_model.layer4.0.conv2.weight\", \"image_model.layer4.0.bn2.weight\", \"image_model.layer4.0.bn2.bias\", \"image_model.layer4.0.bn2.running_mean\", \"image_model.layer4.0.bn2.running_var\", \"image_model.layer4.0.bn2.num_batches_tracked\", \"image_model.layer4.0.conv3.weight\", \"image_model.layer4.0.bn3.weight\", \"image_model.layer4.0.bn3.bias\", \"image_model.layer4.0.bn3.running_mean\", \"image_model.layer4.0.bn3.running_var\", \"image_model.layer4.0.bn3.num_batches_tracked\", \"image_model.layer4.0.downsample.0.weight\", \"image_model.layer4.0.downsample.1.weight\", \"image_model.layer4.0.downsample.1.bias\", \"image_model.layer4.0.downsample.1.running_mean\", \"image_model.layer4.0.downsample.1.running_var\", \"image_model.layer4.0.downsample.1.num_batches_tracked\", \"image_model.layer4.1.conv1.weight\", \"image_model.layer4.1.bn1.weight\", \"image_model.layer4.1.bn1.bias\", \"image_model.layer4.1.bn1.running_mean\", \"image_model.layer4.1.bn1.running_var\", \"image_model.layer4.1.bn1.num_batches_tracked\", \"image_model.layer4.1.conv2.weight\", \"image_model.layer4.1.bn2.weight\", \"image_model.layer4.1.bn2.bias\", \"image_model.layer4.1.bn2.running_mean\", \"image_model.layer4.1.bn2.running_var\", \"image_model.layer4.1.bn2.num_batches_tracked\", \"image_model.layer4.1.conv3.weight\", \"image_model.layer4.1.bn3.weight\", \"image_model.layer4.1.bn3.bias\", \"image_model.layer4.1.bn3.running_mean\", \"image_model.layer4.1.bn3.running_var\", \"image_model.layer4.1.bn3.num_batches_tracked\", \"image_model.layer4.2.conv1.weight\", \"image_model.layer4.2.bn1.weight\", \"image_model.layer4.2.bn1.bias\", \"image_model.layer4.2.bn1.running_mean\", \"image_model.layer4.2.bn1.running_var\", \"image_model.layer4.2.bn1.num_batches_tracked\", \"image_model.layer4.2.conv2.weight\", \"image_model.layer4.2.bn2.weight\", \"image_model.layer4.2.bn2.bias\", \"image_model.layer4.2.bn2.running_mean\", \"image_model.layer4.2.bn2.running_var\", \"image_model.layer4.2.bn2.num_batches_tracked\", \"image_model.layer4.2.conv3.weight\", \"image_model.layer4.2.bn3.weight\", \"image_model.layer4.2.bn3.bias\", \"image_model.layer4.2.bn3.running_mean\", \"image_model.layer4.2.bn3.running_var\", \"image_model.layer4.2.bn3.num_batches_tracked\", \"image_projection.3.weight\", \"image_projection.3.bias\", \"text_projection.3.weight\", \"text_projection.3.bias\", \"fusion_head.6.weight\", \"fusion_head.6.bias\", \"fusion_head.9.weight\", \"fusion_head.9.bias\". \n\tsize mismatch for image_projection.0.weight: copying a param with shape torch.Size([512, 2048]) from checkpoint, the shape in current model is torch.Size([64, 1280]).\n\tsize mismatch for image_projection.0.bias: copying a param with shape torch.Size([512]) from checkpoint, the shape in current model is torch.Size([64]).\n\tsize mismatch for text_projection.0.weight: copying a param with shape torch.Size([512, 768]) from checkpoint, the shape in current model is torch.Size([64, 768]).\n\tsize mismatch for text_projection.0.bias: copying a param with shape torch.Size([512]) from checkpoint, the shape in current model is torch.Size([64]).\n\tsize mismatch for fusion_head.0.weight: copying a param with shape torch.Size([256, 257]) from checkpoint, the shape in current model is torch.Size([64, 129]).\n\tsize mismatch for fusion_head.0.bias: copying a param with shape torch.Size([256]) from checkpoint, the shape in current model is torch.Size([64]).\n\tsize mismatch for fusion_head.3.weight: copying a param with shape torch.Size([128, 256]) from checkpoint, the shape in current model is torch.Size([32, 64]).\n\tsize mismatch for fusion_head.3.bias: copying a param with shape torch.Size([128]) from checkpoint, the shape in current model is torch.Size([32])."
     ]
    }
   ],
   "source": [
    "# Load best model\n",
    "print(\"Loading best model...\")\n",
    "checkpoint = torch.load(config.MODEL_SAVE_PATH, weights_only=False)\n",
    "model.load_state_dict(checkpoint['model_state_dict'])\n",
    "print(f\"Best model loaded from epoch {checkpoint['epoch'] + 1}\")\n",
    "print(f\"Best validation SMAPE: {checkpoint['val_smape']:.4f}%\")\n",
    "print(f\"Best validation loss: {checkpoint['val_loss']:.4f}\")\n",
    "\n",
    "# Set model to evaluation mode\n",
    "model.eval()"
   ]
  },
  {
   "cell_type": "code",
   "execution_count": null,
   "id": "99d15a85",
   "metadata": {},
   "outputs": [
    {
     "name": "stdout",
     "output_type": "stream",
     "text": [
      "\n",
      "Generating predictions for test set...\n"
     ]
    },
    {
     "name": "stdout",
     "output_type": "stream",
     "text": [
      "\n",
      "Generating predictions for test set...\n"
     ]
    },
    {
     "data": {
      "application/vnd.jupyter.widget-view+json": {
       "model_id": "823c94018ed24f0e8ba1bc3984cb0054",
       "version_major": 2,
       "version_minor": 0
      },
      "text/plain": [
       "Generating predictions:   0%|          | 0/2344 [00:00<?, ?it/s]"
      ]
     },
     "metadata": {},
     "output_type": "display_data"
    },
    {
     "name": "stdout",
     "output_type": "stream",
     "text": [
      "\n",
      "Generating predictions for test set...\n"
     ]
    },
    {
     "data": {
      "application/vnd.jupyter.widget-view+json": {
       "model_id": "823c94018ed24f0e8ba1bc3984cb0054",
       "version_major": 2,
       "version_minor": 0
      },
      "text/plain": [
       "Generating predictions:   0%|          | 0/2344 [00:00<?, ?it/s]"
      ]
     },
     "metadata": {},
     "output_type": "display_data"
    },
    {
     "ename": "KeyboardInterrupt",
     "evalue": "",
     "output_type": "error",
     "traceback": [
      "\u001b[31m---------------------------------------------------------------------------\u001b[39m",
      "\u001b[31mKeyboardInterrupt\u001b[39m                         Traceback (most recent call last)",
      "\u001b[36mCell\u001b[39m\u001b[36m \u001b[39m\u001b[32mIn[20]\u001b[39m\u001b[32m, line 31\u001b[39m\n\u001b[32m     29\u001b[39m \u001b[38;5;66;03m# Generate predictions\u001b[39;00m\n\u001b[32m     30\u001b[39m \u001b[38;5;28mprint\u001b[39m(\u001b[33m\"\u001b[39m\u001b[38;5;130;01m\\n\u001b[39;00m\u001b[33mGenerating predictions for test set...\u001b[39m\u001b[33m\"\u001b[39m)\n\u001b[32m---> \u001b[39m\u001b[32m31\u001b[39m sample_ids, predictions = \u001b[43mgenerate_predictions\u001b[49m\u001b[43m(\u001b[49m\u001b[43mmodel\u001b[49m\u001b[43m,\u001b[49m\u001b[43m \u001b[49m\u001b[43mtest_loader\u001b[49m\u001b[43m,\u001b[49m\u001b[43m \u001b[49m\u001b[43mconfig\u001b[49m\u001b[43m.\u001b[49m\u001b[43mDEVICE\u001b[49m\u001b[43m)\u001b[49m\n\u001b[32m     33\u001b[39m \u001b[38;5;28mprint\u001b[39m(\u001b[33mf\u001b[39m\u001b[33m\"\u001b[39m\u001b[33mGenerated \u001b[39m\u001b[38;5;132;01m{\u001b[39;00m\u001b[38;5;28mlen\u001b[39m(predictions)\u001b[38;5;132;01m}\u001b[39;00m\u001b[33m predictions\u001b[39m\u001b[33m\"\u001b[39m)\n",
      "\u001b[36mCell\u001b[39m\u001b[36m \u001b[39m\u001b[32mIn[20]\u001b[39m\u001b[32m, line 23\u001b[39m, in \u001b[36mgenerate_predictions\u001b[39m\u001b[34m(model, dataloader, device)\u001b[39m\n\u001b[32m     20\u001b[39m         outputs = model(image, input_ids, attention_mask, ipq)\n\u001b[32m     22\u001b[39m         \u001b[38;5;66;03m# Store predictions\u001b[39;00m\n\u001b[32m---> \u001b[39m\u001b[32m23\u001b[39m         predictions.extend(\u001b[43moutputs\u001b[49m\u001b[43m.\u001b[49m\u001b[43mcpu\u001b[49m\u001b[43m(\u001b[49m\u001b[43m)\u001b[49m.numpy())\n\u001b[32m     24\u001b[39m         sample_ids.extend(batch[\u001b[33m'\u001b[39m\u001b[33msample_id\u001b[39m\u001b[33m'\u001b[39m].numpy())\n\u001b[32m     26\u001b[39m \u001b[38;5;28;01mreturn\u001b[39;00m sample_ids, predictions\n",
      "\u001b[31mKeyboardInterrupt\u001b[39m: "
     ]
    }
   ],
   "source": [
    "def generate_predictions(model, dataloader, device):\n",
    "    \"\"\"\n",
    "    Generate predictions for test data.\n",
    "    \"\"\"\n",
    "    model.eval()\n",
    "    predictions = []\n",
    "    sample_ids = []\n",
    "    \n",
    "    progress_bar = tqdm(dataloader, desc='Generating predictions')\n",
    "    \n",
    "    with torch.no_grad():\n",
    "        for batch in progress_bar:\n",
    "            # Move data to device\n",
    "            image = batch['image'].to(device)\n",
    "            input_ids = batch['input_ids'].to(device)\n",
    "            attention_mask = batch['attention_mask'].to(device)\n",
    "            ipq = batch['ipq'].to(device)\n",
    "            \n",
    "            # Forward pass\n",
    "            outputs = model(image, input_ids, attention_mask, ipq)\n",
    "            \n",
    "            # Store predictions\n",
    "            predictions.extend(outputs.cpu().numpy())\n",
    "            sample_ids.extend(batch['sample_id'].numpy())\n",
    "    \n",
    "    return sample_ids, predictions\n",
    "\n",
    "\n",
    "# Generate predictions\n",
    "print(\"\\nGenerating predictions for test set...\")\n",
    "sample_ids, predictions = generate_predictions(model, test_loader, config.DEVICE)\n",
    "\n",
    "print(f\"Generated {len(predictions)} predictions\")"
   ]
  },
  {
   "cell_type": "markdown",
   "id": "1285a57a",
   "metadata": {},
   "source": [
    "## Step 15: Create Submission File"
   ]
  },
  {
   "cell_type": "code",
   "execution_count": null,
   "id": "f5db5dd1",
   "metadata": {},
   "outputs": [],
   "source": [
    "# Create submission dataframe\n",
    "submission_df = pd.DataFrame({\n",
    "    'sample_id': sample_ids,\n",
    "    'price': predictions\n",
    "})\n",
    "\n",
    "# Sort by sample_id\n",
    "submission_df = submission_df.sort_values('sample_id').reset_index(drop=True)\n",
    "\n",
    "# Ensure all prices are positive\n",
    "submission_df['price'] = submission_df['price'].apply(lambda x: max(x, 0.01))\n",
    "\n",
    "# Display sample\n",
    "print(\"Submission file preview:\")\n",
    "print(submission_df.head(10))\n",
    "\n",
    "print(f\"\\nSubmission statistics:\")\n",
    "print(submission_df['price'].describe())\n",
    "\n",
    "# Save to CSV\n",
    "submission_df.to_csv(config.SUBMISSION_FILE, index=False)\n",
    "print(f\"\\n✓ Submission file saved as '{config.SUBMISSION_FILE}'\")"
   ]
  },
  {
   "cell_type": "markdown",
   "id": "ec53f69c",
   "metadata": {},
   "source": [
    "## Step 16: Validation and Summary"
   ]
  },
  {
   "cell_type": "code",
   "execution_count": null,
   "id": "8d9cca3a",
   "metadata": {},
   "outputs": [],
   "source": [
    "# Verify submission file format\n",
    "print(\"Verifying submission file...\")\n",
    "submission_check = pd.read_csv(config.SUBMISSION_FILE)\n",
    "\n",
    "print(f\"✓ Number of rows: {len(submission_check)}\")\n",
    "print(f\"✓ Columns: {submission_check.columns.tolist()}\")\n",
    "print(f\"✓ All prices positive: {(submission_check['price'] > 0).all()}\")\n",
    "print(f\"✓ No missing values: {submission_check.isnull().sum().sum() == 0}\")\n",
    "\n",
    "print(\"\\n\" + \"=\"*60)\n",
    "print(\"SUMMARY\")\n",
    "print(\"=\"*60)\n",
    "print(f\"Model: Multimodal (ResNet50 + DistilBERT + IPQ)\")\n",
    "print(f\"Best Validation SMAPE: {best_val_smape:.4f}%\")\n",
    "print(f\"Training samples: {len(train_data)}\")\n",
    "print(f\"Validation samples: {len(val_data)}\")\n",
    "print(f\"Test samples: {len(test_df)}\")\n",
    "print(f\"Epochs trained: {config.EPOCHS}\")\n",
    "print(f\"Submission file: {config.SUBMISSION_FILE}\")\n",
    "print(\"=\"*60)\n",
    "\n",
    "print(\"\\n✓ All done! Ready for submission.\")"
   ]
  },
  {
   "cell_type": "markdown",
   "id": "eaa6ecb6",
   "metadata": {},
   "source": [
    "## Optional: Analyze Sample Predictions"
   ]
  },
  {
   "cell_type": "code",
   "execution_count": null,
   "id": "6324e9d6",
   "metadata": {},
   "outputs": [],
   "source": [
    "# Analyze validation set predictions\n",
    "model.eval()\n",
    "val_preds = []\n",
    "val_targets = []\n",
    "val_sample_ids = []\n",
    "\n",
    "with torch.no_grad():\n",
    "    for batch in tqdm(val_loader, desc='Analyzing validation predictions'):\n",
    "        image = batch['image'].to(config.DEVICE)\n",
    "        input_ids = batch['input_ids'].to(config.DEVICE)\n",
    "        attention_mask = batch['attention_mask'].to(config.DEVICE)\n",
    "        ipq = batch['ipq'].to(config.DEVICE)\n",
    "        \n",
    "        outputs = model(image, input_ids, attention_mask, ipq)\n",
    "        \n",
    "        val_preds.extend(outputs.cpu().numpy())\n",
    "        val_targets.extend(batch['price'].cpu().numpy())\n",
    "        val_sample_ids.extend(batch['sample_id'].numpy())\n",
    "\n",
    "# Create comparison dataframe\n",
    "comparison_df = pd.DataFrame({\n",
    "    'sample_id': val_sample_ids,\n",
    "    'actual_price': val_targets,\n",
    "    'predicted_price': val_preds\n",
    "})\n",
    "\n",
    "comparison_df['error'] = np.abs(comparison_df['actual_price'] - comparison_df['predicted_price'])\n",
    "comparison_df['error_pct'] = (comparison_df['error'] / comparison_df['actual_price']) * 100\n",
    "\n",
    "print(\"\\nValidation Predictions Analysis:\")\n",
    "print(\"\\nTop 10 best predictions (lowest error):\")\n",
    "print(comparison_df.nsmallest(10, 'error_pct')[['sample_id', 'actual_price', 'predicted_price', 'error_pct']])\n",
    "\n",
    "print(\"\\nTop 10 worst predictions (highest error):\")\n",
    "print(comparison_df.nlargest(10, 'error_pct')[['sample_id', 'actual_price', 'predicted_price', 'error_pct']])\n",
    "\n",
    "# Plot predictions vs actual\n",
    "plt.figure(figsize=(10, 6))\n",
    "plt.scatter(comparison_df['actual_price'], comparison_df['predicted_price'], alpha=0.5)\n",
    "plt.plot([comparison_df['actual_price'].min(), comparison_df['actual_price'].max()], \n",
    "         [comparison_df['actual_price'].min(), comparison_df['actual_price'].max()], \n",
    "         'r--', lw=2, label='Perfect Prediction')\n",
    "plt.xlabel('Actual Price')\n",
    "plt.ylabel('Predicted Price')\n",
    "plt.title('Predictions vs Actual Prices (Validation Set)')\n",
    "plt.legend()\n",
    "plt.grid(True, alpha=0.3)\n",
    "plt.savefig('predictions_vs_actual.png', dpi=150, bbox_inches='tight')\n",
    "plt.show()\n",
    "\n",
    "print(\"\\nPrediction analysis complete!\")"
   ]
  }
 ],
 "metadata": {
  "kernelspec": {
   "display_name": "venv",
   "language": "python",
   "name": "python3"
  },
  "language_info": {
   "codemirror_mode": {
    "name": "ipython",
    "version": 3
   },
   "file_extension": ".py",
   "mimetype": "text/x-python",
   "name": "python",
   "nbconvert_exporter": "python",
   "pygments_lexer": "ipython3",
   "version": "3.13.7"
  }
 },
 "nbformat": 4,
 "nbformat_minor": 5
}
